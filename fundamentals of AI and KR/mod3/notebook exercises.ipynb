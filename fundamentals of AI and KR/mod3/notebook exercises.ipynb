{
 "cells": [
  {
   "cell_type": "code",
   "execution_count": 17,
   "metadata": {},
   "outputs": [
    {
     "name": "stdout",
     "output_type": "stream",
     "text": [
      "+--------+------+------+------+-----+------+------+------+------+------+\n",
      "| A      | A(0) | A(0) | A(0) | ... | A(2) | A(3) | A(3) | A(3) | A(3) |\n",
      "+--------+------+------+------+-----+------+------+------+------+------+\n",
      "| B      | B(0) | B(1) | B(2) | ... | B(3) | B(0) | B(1) | B(2) | B(3) |\n",
      "+--------+------+------+------+-----+------+------+------+------+------+\n",
      "| dAB(0) | 0.0  | 0.0  | 0.0  | ... | 0.0  | 0.0  | 0.0  | 0.0  | 0.0  |\n",
      "+--------+------+------+------+-----+------+------+------+------+------+\n",
      "| dAB(1) | 0.0  | 0.0  | 1.0  | ... | 0.0  | 0.0  | 0.0  | 0.0  | 0.0  |\n",
      "+--------+------+------+------+-----+------+------+------+------+------+\n",
      "| dAB(2) | 0.0  | 1.0  | 0.0  | ... | 1.0  | 0.0  | 0.0  | 0.0  | 0.0  |\n",
      "+--------+------+------+------+-----+------+------+------+------+------+\n",
      "| dAB(3) | 1.0  | 0.0  | 0.0  | ... | 0.0  | 0.0  | 0.0  | 0.0  | 1.0  |\n",
      "+--------+------+------+------+-----+------+------+------+------+------+\n",
      "| dAB(4) | 0.0  | 0.0  | 0.0  | ... | 0.0  | 0.0  | 0.0  | 1.0  | 0.0  |\n",
      "+--------+------+------+------+-----+------+------+------+------+------+\n",
      "| dAB(5) | 0.0  | 0.0  | 0.0  | ... | 0.0  | 0.0  | 1.0  | 0.0  | 0.0  |\n",
      "+--------+------+------+------+-----+------+------+------+------+------+\n",
      "| dAB(6) | 0.0  | 0.0  | 0.0  | ... | 0.0  | 1.0  | 0.0  | 0.0  | 0.0  |\n",
      "+--------+------+------+------+-----+------+------+------+------+------+\n"
     ]
    }
   ],
   "source": [
    "#Russel Norvig 3 ed, es. 14.21 SOCCER TEAMS\n",
    "\n",
    "from pgmpy.models import BayesianModel\n",
    "from pgmpy.factors.discrete import TabularCPD\n",
    "\n",
    "model = BayesianModel([(\"A\", \"dAB\"), (\"A\", \"dAC\"), (\"B\", \"dBC\"), (\"B\", \"dAB\"), (\"C\", \"dBC\"), (\"C\", \"dAC\"), ('dAB', 'AvsB'), ('dBC', 'BvsC'), ('dAC', 'AvsC')])\n",
    "\n",
    "cpd_A = TabularCPD(variable= \"A\", variable_card=4, values=[[0.25], [0.25], [0.25], [0.25]])\n",
    "cpd_B = TabularCPD(variable= \"B\", variable_card=4, values=[[0.25], [0.25], [0.25], [0.25]])\n",
    "cpd_C = TabularCPD(variable= \"C\", variable_card=4, values=[[0.25], [0.25], [0.25], [0.25]])\n",
    "\n",
    "cpd_dAB = TabularCPD(variable= \"dAB\", variable_card= 7, evidence=[\"A\", \"B\"], evidence_card=[4, 4], values=\n",
    "                     [[0,0,0,1,0,0,0,0,0,0,0,0,0,0,0,0],\n",
    "                      [0,0,1,0,0,0,0,1,0,0,0,0,0,0,0,0],\n",
    "                      [0,1,0,0,0,0,1,0,0,0,0,1,0,0,0,0],\n",
    "                      [1,0,0,0,0,1,0,0,0,0,1,0,0,0,0,1],\n",
    "                      [0,0,0,0,1,0,0,0,0,1,0,0,0,0,1,0],\n",
    "                      [0,0,0,0,0,0,0,0,1,0,0,0,0,1,0,0],\n",
    "                      [0,0,0,0,0,0,0,0,0,0,0,0,1,0,0,0]])\n",
    "cpd_dAC = TabularCPD(variable= \"dAC\", variable_card= 7, evidence=[\"A\", \"C\"], evidence_card=[4, 4], values=\n",
    "                     [[0,0,0,1,0,0,0,0,0,0,0,0,0,0,0,0], \n",
    "                      [0,0,1,0,0,0,0,1,0,0,0,0,0,0,0,0],\n",
    "                      [0,1,0,0,0,0,1,0,0,0,0,1,0,0,0,0],\n",
    "                      [1,0,0,0,0,1,0,0,0,0,1,0,0,0,0,1],\n",
    "                      [0,0,0,0,1,0,0,0,0,1,0,0,0,0,1,0],\n",
    "                      [0,0,0,0,0,0,0,0,1,0,0,0,0,1,0,0],\n",
    "                      [0,0,0,0,0,0,0,0,0,0,0,0,1,0,0,0]])              \n",
    "cpd_dBC = TabularCPD(variable= \"dBC\", variable_card= 7, evidence=[\"B\", \"C\"], evidence_card=[4, 4], values=\n",
    "                     [[0,0,0,1,0,0,0,0,0,0,0,0,0,0,0,0], \n",
    "                      [0,0,1,0,0,0,0,1,0,0,0,0,0,0,0,0],\n",
    "                      [0,1,0,0,0,0,1,0,0,0,0,1,0,0,0,0],\n",
    "                      [1,0,0,0,0,1,0,0,0,0,1,0,0,0,0,1],\n",
    "                      [0,0,0,0,1,0,0,0,0,1,0,0,0,0,1,0],\n",
    "                      [0,0,0,0,0,0,0,0,1,0,0,0,0,1,0,0],\n",
    "                      [0,0,0,0,0,0,0,0,0,0,0,0,1,0,0,0]])\n",
    "\n",
    "cpd_AvsB = TabularCPD(variable=\"AvsB\", variable_card=3, evidence=[\"dAB\"], evidence_card=[7], values=\n",
    "                      [[0, .05, .1, .2, .5, .8 , 1],\n",
    "                       [0, .15, .4, .6, .4, .15, 0],\n",
    "                       [1, .8, .5, .2, .1, .05 , 0]])\n",
    "cpd_BvsC = TabularCPD(variable=\"BvsC\", variable_card=3, evidence=[\"dBC\"], evidence_card=[7], values=\n",
    "                      [[0, .05, .1, .2, .5, .8 , 1],\n",
    "                       [0, .15, .4, .6, .4, .15, 0],\n",
    "                       [1, .8, .5, .2, .1, .05 , 0]])\n",
    "cpd_AvsC = TabularCPD(variable=\"AvsC\", variable_card=3, evidence=[\"dAC\"], evidence_card=[7], values=\n",
    "                      [[0, .05, .1, .2, .5, .8 , 1],\n",
    "                       [0, .15, .4, .6, .4, .15, 0],\n",
    "                       [1, .8, .5, .2, .1, .05 , 0]])\n",
    "\n",
    "model.add_cpds(cpd_A, cpd_B, cpd_C, cpd_dAB, cpd_dBC, cpd_dAC, cpd_AvsB, cpd_BvsC, cpd_AvsC)\n",
    "model.check_model()\n",
    "\n",
    "print(cpd_dAB)\n",
    "\n"
   ]
  },
  {
   "cell_type": "code",
   "execution_count": 23,
   "metadata": {},
   "outputs": [
    {
     "name": "stdout",
     "output_type": "stream",
     "text": [
      "+---------+-------------+\n",
      "| BvsC    |   phi(BvsC) |\n",
      "+=========+=============+\n",
      "| BvsC(0) |      0.1524 |\n",
      "+---------+-------------+\n",
      "| BvsC(1) |      0.3115 |\n",
      "+---------+-------------+\n",
      "| BvsC(2) |      0.5361 |\n",
      "+---------+-------------+\n"
     ]
    }
   ],
   "source": [
    "from pgmpy.inference import VariableElimination\n",
    "infer = VariableElimination(model)\n",
    "\n",
    "print(infer.query([\"BvsC\"], evidence={\"AvsB\" : 0, \"AvsC\": 1}))"
   ]
  }
 ],
 "metadata": {
  "kernelspec": {
   "display_name": "Python 3.8.10 64-bit",
   "language": "python",
   "name": "python3"
  },
  "language_info": {
   "codemirror_mode": {
    "name": "ipython",
    "version": 3
   },
   "file_extension": ".py",
   "mimetype": "text/x-python",
   "name": "python",
   "nbconvert_exporter": "python",
   "pygments_lexer": "ipython3",
   "version": "3.8.10 (default, Nov 14 2022, 12:59:47) \n[GCC 9.4.0]"
  },
  "orig_nbformat": 4,
  "vscode": {
   "interpreter": {
    "hash": "916dbcbb3f70747c44a77c7bcd40155683ae19c65e1c03b4aa3499c5328201f1"
   }
  }
 },
 "nbformat": 4,
 "nbformat_minor": 2
}
