{
  "cells": [
    {
      "cell_type": "markdown",
      "metadata": {
        "id": "view-in-github",
        "colab_type": "text"
      },
      "source": [
        "<a href=\"https://colab.research.google.com/github/MatteoFusconi/Artificial-Intelligence-master/blob/main/BendingSpoons.ipynb\" target=\"_parent\"><img src=\"https://colab.research.google.com/assets/colab-badge.svg\" alt=\"Open In Colab\"/></a>"
      ]
    },
    {
      "cell_type": "markdown",
      "source": [
        "# Task 3"
      ],
      "metadata": {
        "id": "DWPfxgiyYGla"
      }
    },
    {
      "cell_type": "code",
      "source": [
        "def successor(n: list) -> list:\n",
        "  # increment least significant trit\n",
        "  n[0] += 1\n",
        "\n",
        "  # remove 0s in the right\n",
        "  while n[-1] == 0:\n",
        "    del n[-1]\n",
        "\n",
        "  # increment\n",
        "  i = 0\n",
        "  while n[i] == 3:\n",
        "    n[i] = 0\n",
        "    i+=1\n",
        "    if i == len(n):\n",
        "      n.append(1)\n",
        "    else:\n",
        "      n[i]+=1\n",
        "  return n\n",
        "\n",
        "\n",
        "successor([2,2,2, 0, 0])"
      ],
      "metadata": {
        "id": "2B29VsGWn55o",
        "outputId": "7ddd2de5-6ffe-4243-ab5f-56a75ccf8112",
        "colab": {
          "base_uri": "https://localhost:8080/"
        }
      },
      "execution_count": null,
      "outputs": [
        {
          "output_type": "execute_result",
          "data": {
            "text/plain": [
              "[0, 0, 0, 1]"
            ]
          },
          "metadata": {},
          "execution_count": 25
        }
      ]
    },
    {
      "cell_type": "code",
      "source": [
        "def leq(A: list, B: list) -> bool:\n",
        "  # remove 0s in the right\n",
        "  while A[-1] == 0:\n",
        "    del A[-1]\n",
        "  while B[-1] == 0:\n",
        "    del B[-1]\n",
        "\n",
        "  # after the stripping, if a list has more trits, it implies\n",
        "  # that it is greater than the other one\n",
        "  if len(A) < len(B):\n",
        "    return True\n",
        "  elif len(A) > len(B):\n",
        "    return False\n",
        "\n",
        "  # if the lists have equal length, compare the most significant trit\n",
        "  # until B is bigger, or until we reach the least significant trit\n",
        "  else:\n",
        "    i = len(A) - 1 # == len(B) - 1\n",
        "\n",
        "    # check each trit, from most significant to least\n",
        "    while i > 0:\n",
        "      if A[i] > B[i]:\n",
        "        return False\n",
        "      elif A[i] < B[i]:\n",
        "        return True\n",
        "      else:\n",
        "        i -= 1\n",
        "    # if it gets until here, it means that A == B\n",
        "    return True\n",
        "\n",
        "\n",
        "leq([1, 1, 1, 1], [1, 1, 1, 1])"
      ],
      "metadata": {
        "id": "H9u8v5gKtaQQ",
        "outputId": "a83fe18c-bf82-44c0-9da7-5d2871a881e0",
        "colab": {
          "base_uri": "https://localhost:8080/"
        }
      },
      "execution_count": null,
      "outputs": [
        {
          "output_type": "execute_result",
          "data": {
            "text/plain": [
              "True"
            ]
          },
          "metadata": {},
          "execution_count": 64
        }
      ]
    },
    {
      "cell_type": "code",
      "source": [
        "def tritwise_min(A: list, B: list) -> list:\n",
        "  while A[-1] == 0:\n",
        "    del A[-1]\n",
        "  while B[-1] == 0:\n",
        "    del B[-1]\n",
        "\n",
        "  minimum = []\n",
        "  i = 0\n",
        "  while i != len(A) and i != len(B):\n",
        "    minimum.append(min(A[i], B[i]))\n",
        "    i+=1\n",
        "  return minimum\n",
        "\n",
        "tritwise_min([2, 2, 1, 0, 2], [0, 2, 0])"
      ],
      "metadata": {
        "id": "nkONI_EDxinV",
        "outputId": "f93518d1-81e0-46ee-db09-5dcf33b223e1",
        "colab": {
          "base_uri": "https://localhost:8080/"
        }
      },
      "execution_count": null,
      "outputs": [
        {
          "output_type": "execute_result",
          "data": {
            "text/plain": [
              "[0, 2]"
            ]
          },
          "metadata": {},
          "execution_count": 42
        }
      ]
    },
    {
      "cell_type": "code",
      "source": [
        "def f(A: list, B: list) -> list:\n",
        "  # I assume A <= B\n",
        "  minimum = list(A) # copy of A\n",
        "  curr = successor(A)\n",
        "  while leq(curr, B):\n",
        "    minimum = list(tritwise_min(minimum, curr))\n",
        "    curr = successor(curr)\n",
        "\n",
        "  return minimum\n",
        "\n",
        "f([2, 1, 1, 1, 2], [1, 2, 2, 2, 2])\n"
      ],
      "metadata": {
        "id": "uEa9FBdg0X6A",
        "outputId": "376f78f1-1980-444a-c60e-48c35078164a",
        "colab": {
          "base_uri": "https://localhost:8080/"
        }
      },
      "execution_count": null,
      "outputs": [
        {
          "output_type": "execute_result",
          "data": {
            "text/plain": [
              "[0, 0, 0, 1, 2]"
            ]
          },
          "metadata": {},
          "execution_count": 86
        }
      ]
    },
    {
      "cell_type": "code",
      "source": [
        "def f_eff(A: list, B: list) -> list:\n",
        "  while A[-1] == 0:\n",
        "    del A[-1]\n",
        "  while B[-1] == 0:\n",
        "    del B[-1]\n",
        "\n",
        "  if len(B) > len(A):\n",
        "    return []\n",
        "  else:\n",
        "    minimum = []\n",
        "    i = len(A) - 1\n",
        "    while A[i] == B[i]:\n",
        "      minimum.insert(0, A[i])\n",
        "      i -= 1\n",
        "\n",
        "    minimum.insert(0, A[i])\n",
        "    for j in range(i):\n",
        "      minimum.insert(0, 0)\n",
        "    return minimum\n",
        "\n",
        "\n",
        "\n",
        "f_eff([2, 1, 1, 1, 2], [1, 2, 2, 2, 2])"
      ],
      "metadata": {
        "id": "W2PQCOIB4Fl6",
        "outputId": "a6b60c1f-6030-44c2-a5cb-3d2acd433c13",
        "colab": {
          "base_uri": "https://localhost:8080/"
        }
      },
      "execution_count": null,
      "outputs": [
        {
          "output_type": "execute_result",
          "data": {
            "text/plain": [
              "[0, 0, 0, 1, 2]"
            ]
          },
          "metadata": {},
          "execution_count": 89
        }
      ]
    },
    {
      "cell_type": "markdown",
      "source": [
        "# Task 2"
      ],
      "metadata": {
        "id": "jCXHpEBUYJ5C"
      }
    },
    {
      "cell_type": "code",
      "source": [
        "from typing import List\n",
        "\n",
        "def and_list(X: List[int]) -> int:\n",
        "  if X == []:\n",
        "    return 0\n",
        "  and_acc = X[0]\n",
        "  for x in X[1:]:\n",
        "    and_acc &= x\n",
        "  return and_acc\n",
        "\n",
        "def xor_list(X: List[int]) -> int:\n",
        "  if X == []:\n",
        "    return 0\n",
        "  xor_acc = X[0]\n",
        "  for x in X[1:]:\n",
        "    xor_acc ^= x\n",
        "  return xor_acc\n",
        "xor_list([3,5,1])"
      ],
      "metadata": {
        "colab": {
          "base_uri": "https://localhost:8080/"
        },
        "id": "sAKaRqFzYEoA",
        "outputId": "5ce0532e-ec8e-46fc-dd79-02e065eb5462"
      },
      "execution_count": null,
      "outputs": [
        {
          "output_type": "execute_result",
          "data": {
            "text/plain": [
              "7"
            ]
          },
          "metadata": {},
          "execution_count": 28
        }
      ]
    },
    {
      "cell_type": "code",
      "source": [
        "import numpy as np\n",
        "\n",
        "def f(X: List[int]) -> int:\n",
        "  if X == []:\n",
        "    return 0\n",
        "  # findall contiguous sublists\n",
        "  X = np.array(X)\n",
        "  contiguous_sublist_indeces = []\n",
        "\n",
        "  for length in range(len(X)):\n",
        "    for i in range(len(X) - length):\n",
        "      contiguous_sublist_indeces.append(np.arange(i, i+length+1))\n",
        "  bit_xor = [xor_list(list(X[idx])) for idx in contiguous_sublist_indeces]\n",
        "\n",
        "  return and_list(bit_xor)\n",
        "\n",
        "f([1, 2])"
      ],
      "metadata": {
        "colab": {
          "base_uri": "https://localhost:8080/"
        },
        "id": "CO5T2A6hYEmI",
        "outputId": "ce77b92c-d0ce-40c4-8d9a-8e3c29fb39f8"
      },
      "execution_count": null,
      "outputs": [
        {
          "output_type": "execute_result",
          "data": {
            "text/plain": [
              "0"
            ]
          },
          "metadata": {},
          "execution_count": 60
        }
      ]
    },
    {
      "cell_type": "code",
      "source": [
        "def f_eff(X: List[int]) -> int:\n",
        "  if len(X) == 1:\n",
        "    return X[0]\n",
        "  else:\n",
        "    return 0\n",
        "\n",
        "\n",
        "f_eff([4])"
      ],
      "metadata": {
        "colab": {
          "base_uri": "https://localhost:8080/"
        },
        "id": "osp72MMuYEkD",
        "outputId": "be13e333-89ce-424c-8dc0-30101394572e"
      },
      "execution_count": null,
      "outputs": [
        {
          "output_type": "execute_result",
          "data": {
            "text/plain": [
              "4"
            ]
          },
          "metadata": {},
          "execution_count": 68
        }
      ]
    },
    {
      "cell_type": "code",
      "source": [
        "3 & 3"
      ],
      "metadata": {
        "colab": {
          "base_uri": "https://localhost:8080/"
        },
        "id": "aCMpqgr9YEiE",
        "outputId": "b5e79638-a1bc-420e-e53a-6214544cacb0"
      },
      "execution_count": null,
      "outputs": [
        {
          "output_type": "execute_result",
          "data": {
            "text/plain": [
              "3"
            ]
          },
          "metadata": {},
          "execution_count": 70
        }
      ]
    },
    {
      "cell_type": "code",
      "source": [],
      "metadata": {
        "id": "BjZ7xs7UYEgN"
      },
      "execution_count": null,
      "outputs": []
    },
    {
      "cell_type": "code",
      "source": [],
      "metadata": {
        "id": "gE40j5WGYEeX"
      },
      "execution_count": null,
      "outputs": []
    },
    {
      "cell_type": "code",
      "source": [],
      "metadata": {
        "id": "kw87Me5GYEb-"
      },
      "execution_count": null,
      "outputs": []
    },
    {
      "cell_type": "code",
      "source": [],
      "metadata": {
        "id": "ZRNijQG4YEZ0"
      },
      "execution_count": null,
      "outputs": []
    }
  ],
  "metadata": {
    "colab": {
      "toc_visible": true,
      "provenance": [],
      "include_colab_link": true
    },
    "kernelspec": {
      "display_name": "Python 3",
      "name": "python3"
    }
  },
  "nbformat": 4,
  "nbformat_minor": 0
}