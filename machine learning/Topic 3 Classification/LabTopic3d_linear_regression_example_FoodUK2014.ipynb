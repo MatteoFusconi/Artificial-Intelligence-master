{
  "cells": [
    {
      "cell_type": "markdown",
      "metadata": {},
      "source": [
        "\n",
        "# Linear Regression Example\n",
        "The example below uses a [marketing](https://scikit-learn.org/stable/datasets/toy_dataset.html) dataset,\n",
        "in order to illustrate a linear regression activity.\n",
        "\n",
        "Workflow:\n",
        "\n"
      ]
    },
    {
      "cell_type": "markdown",
      "metadata": {},
      "source": [
        "1. Preparation\n",
        "    1. Load the dataset from a `.csv` file and show a short description\n",
        "    1. Show the two dimensional scatter plots for all the predicting variables with respect to the target\n",
        "    1. Split the data into *predicting variables* `X` and *target* `y`\n",
        "        1. here we set the `random_state` variable to make the experiment *repeatable* \n",
        "1. First experiment: compute the regression on a single predicting variable\n",
        "    1. Consider a reduced dataset containing the chosen variable and the target\n",
        "    1. Fit the `LinearRegression` estimator on the training set\n",
        "    1. Show the statistical significance of the fitted model\n",
        "    1. Predict the target for the test set using the *fitted* estimator\n",
        "    1. Compute the regression coefficients and the quality measures: *Root Mean Squared Error (RMSE)* and *coefficient of determination (r2)*\n",
        "1. Second experiment: compute the regression considering all the predicting variables\n",
        "    1. Repeat the steps from 2.2 to 2.5\n",
        "1. Third experiment: use the `DecisionTreeRegressor` with the entire dataset\n",
        "    1. Fit the tree using the default hyperparameters, in order to find the \n",
        "    maximum depth of the unconstrained tree\n",
        "    1. Use *cross-validation* to find the optimal *maximum depth* of the tree\n",
        "    1. Fit the tree with the optmal `max_depth`\n",
        "    1. Predict and show the *root mean squared error*\n",
        "1. Fourth experiment: use the `RandomForestRegressor`\n",
        "    1. Repeat steps from 4.2 to 4.4 (for simplicity, we use the maximum `max_depth` found in 4.1)\n"
      ]
    },
    {
      "cell_type": "code",
      "execution_count": 1,
      "metadata": {
        "collapsed": false
      },
      "outputs": [],
      "source": [
        "# Code source: Claudio Sartori \n",
        "# License: BSD 3 clause\n",
        "\n",
        "import matplotlib.pyplot as plt\n",
        "import numpy as np\n",
        "import scipy.stats\n",
        "from sklearn import datasets, linear_model\n",
        "from sklearn.metrics import mean_squared_error, r2_score\n",
        "import pandas as pd\n",
        "from sklearn.model_selection import train_test_split\n",
        "import warnings\n",
        "warnings.filterwarnings('ignore')\n",
        "\n",
        "random_state = 94922767 # this will be used to guarantee the repeatability of the experiment"
      ]
    },
    {
      "cell_type": "markdown",
      "metadata": {},
      "source": [
        "## Load the dataset from a `.xlsx` file and show a short description"
      ]
    },
    {
      "cell_type": "code",
      "execution_count": 2,
      "metadata": {},
      "outputs": [],
      "source": [
        "# This cell allows full compatibility between execution in Google Colab and in local\n",
        "try:\n",
        "  import google.colab.files\n",
        "  IN_COLAB = True\n",
        "except:\n",
        "  IN_COLAB = False\n",
        "# from google.colab import files\n",
        "if IN_COLAB:\n",
        "    uploaded = files.upload()"
      ]
    },
    {
      "cell_type": "code",
      "execution_count": 3,
      "metadata": {},
      "outputs": [],
      "source": [
        "# The file must be available in the same directory, \n",
        "# or uploaded in the Colab environment \n",
        "# in the execution of the previous cell\n",
        "data_fn = 'FoodUK2014.xlsx'\n",
        "df0 = pd.read_excel(data_fn)"
      ]
    },
    {
      "cell_type": "markdown",
      "metadata": {},
      "source": [
        "## Data Exploration and preparation"
      ]
    },
    {
      "cell_type": "markdown",
      "metadata": {},
      "source": [
        "##### Show a short description of the columns"
      ]
    },
    {
      "cell_type": "code",
      "execution_count": 5,
      "metadata": {},
      "outputs": [
        {
          "data": {
            "text/html": [
              "<div>\n",
              "<style scoped>\n",
              "    .dataframe tbody tr th:only-of-type {\n",
              "        vertical-align: middle;\n",
              "    }\n",
              "\n",
              "    .dataframe tbody tr th {\n",
              "        vertical-align: top;\n",
              "    }\n",
              "\n",
              "    .dataframe thead th {\n",
              "        text-align: right;\n",
              "    }\n",
              "</style>\n",
              "<table border=\"1\" class=\"dataframe\">\n",
              "  <thead>\n",
              "    <tr style=\"text-align: right;\">\n",
              "      <th></th>\n",
              "      <th>hhsize</th>\n",
              "      <th>adults_n</th>\n",
              "      <th>children_n</th>\n",
              "      <th>totalexp</th>\n",
              "      <th>Year</th>\n",
              "      <th>income</th>\n",
              "      <th>AgeHRP</th>\n",
              "      <th>qmeat</th>\n",
              "      <th>qfish</th>\n",
              "      <th>qfv</th>\n",
              "      <th>xmeat</th>\n",
              "      <th>xfish</th>\n",
              "      <th>xfv</th>\n",
              "      <th>uvmeat</th>\n",
              "      <th>uvfish</th>\n",
              "      <th>uvfv</th>\n",
              "    </tr>\n",
              "  </thead>\n",
              "  <tbody>\n",
              "    <tr>\n",
              "      <th>count</th>\n",
              "      <td>5114.000000</td>\n",
              "      <td>5114.000000</td>\n",
              "      <td>5114.000000</td>\n",
              "      <td>5114.000000</td>\n",
              "      <td>5114.0</td>\n",
              "      <td>5114.000000</td>\n",
              "      <td>5114.000000</td>\n",
              "      <td>4873.000000</td>\n",
              "      <td>3542.000000</td>\n",
              "      <td>5017.000000</td>\n",
              "      <td>4873.000000</td>\n",
              "      <td>3542.000000</td>\n",
              "      <td>5017.000000</td>\n",
              "      <td>4873.000000</td>\n",
              "      <td>3542.000000</td>\n",
              "      <td>5017.000000</td>\n",
              "    </tr>\n",
              "    <tr>\n",
              "      <th>mean</th>\n",
              "      <td>2.363707</td>\n",
              "      <td>1.841807</td>\n",
              "      <td>0.521901</td>\n",
              "      <td>519.898868</td>\n",
              "      <td>2014.0</td>\n",
              "      <td>679.542002</td>\n",
              "      <td>53.802698</td>\n",
              "      <td>10.475023</td>\n",
              "      <td>2.146960</td>\n",
              "      <td>25.727801</td>\n",
              "      <td>68.108342</td>\n",
              "      <td>19.635469</td>\n",
              "      <td>58.943391</td>\n",
              "      <td>7.072523</td>\n",
              "      <td>9.934257</td>\n",
              "      <td>2.508315</td>\n",
              "    </tr>\n",
              "    <tr>\n",
              "      <th>std</th>\n",
              "      <td>1.244704</td>\n",
              "      <td>0.743052</td>\n",
              "      <td>0.945622</td>\n",
              "      <td>411.543093</td>\n",
              "      <td>0.0</td>\n",
              "      <td>499.596175</td>\n",
              "      <td>16.187912</td>\n",
              "      <td>8.798118</td>\n",
              "      <td>2.034353</td>\n",
              "      <td>18.371345</td>\n",
              "      <td>57.347230</td>\n",
              "      <td>18.725096</td>\n",
              "      <td>44.751694</td>\n",
              "      <td>2.931651</td>\n",
              "      <td>5.485175</td>\n",
              "      <td>1.358023</td>\n",
              "    </tr>\n",
              "    <tr>\n",
              "      <th>min</th>\n",
              "      <td>1.000000</td>\n",
              "      <td>0.000000</td>\n",
              "      <td>0.000000</td>\n",
              "      <td>-246.916821</td>\n",
              "      <td>2014.0</td>\n",
              "      <td>0.000000</td>\n",
              "      <td>17.000000</td>\n",
              "      <td>0.086667</td>\n",
              "      <td>0.108333</td>\n",
              "      <td>0.060667</td>\n",
              "      <td>0.195000</td>\n",
              "      <td>0.000000</td>\n",
              "      <td>0.520000</td>\n",
              "      <td>0.357694</td>\n",
              "      <td>0.000000</td>\n",
              "      <td>0.159672</td>\n",
              "    </tr>\n",
              "    <tr>\n",
              "      <th>25%</th>\n",
              "      <td>1.000000</td>\n",
              "      <td>1.000000</td>\n",
              "      <td>0.000000</td>\n",
              "      <td>260.598783</td>\n",
              "      <td>2014.0</td>\n",
              "      <td>306.954000</td>\n",
              "      <td>41.000000</td>\n",
              "      <td>4.452500</td>\n",
              "      <td>0.866667</td>\n",
              "      <td>12.222167</td>\n",
              "      <td>29.141668</td>\n",
              "      <td>6.917083</td>\n",
              "      <td>27.148333</td>\n",
              "      <td>5.171614</td>\n",
              "      <td>5.979375</td>\n",
              "      <td>1.760525</td>\n",
              "    </tr>\n",
              "    <tr>\n",
              "      <th>50%</th>\n",
              "      <td>2.000000</td>\n",
              "      <td>2.000000</td>\n",
              "      <td>0.000000</td>\n",
              "      <td>426.977227</td>\n",
              "      <td>2014.0</td>\n",
              "      <td>548.086000</td>\n",
              "      <td>54.000000</td>\n",
              "      <td>8.374167</td>\n",
              "      <td>1.625000</td>\n",
              "      <td>22.245817</td>\n",
              "      <td>54.708336</td>\n",
              "      <td>13.736667</td>\n",
              "      <td>49.356667</td>\n",
              "      <td>6.575851</td>\n",
              "      <td>8.804690</td>\n",
              "      <td>2.254208</td>\n",
              "    </tr>\n",
              "    <tr>\n",
              "      <th>75%</th>\n",
              "      <td>3.000000</td>\n",
              "      <td>2.000000</td>\n",
              "      <td>1.000000</td>\n",
              "      <td>651.003763</td>\n",
              "      <td>2014.0</td>\n",
              "      <td>925.652500</td>\n",
              "      <td>67.000000</td>\n",
              "      <td>14.005333</td>\n",
              "      <td>2.816667</td>\n",
              "      <td>35.037167</td>\n",
              "      <td>90.480003</td>\n",
              "      <td>26.000000</td>\n",
              "      <td>78.281662</td>\n",
              "      <td>8.295746</td>\n",
              "      <td>12.520942</td>\n",
              "      <td>2.893561</td>\n",
              "    </tr>\n",
              "    <tr>\n",
              "      <th>max</th>\n",
              "      <td>9.000000</td>\n",
              "      <td>7.000000</td>\n",
              "      <td>7.000000</td>\n",
              "      <td>5859.877186</td>\n",
              "      <td>2014.0</td>\n",
              "      <td>2134.090000</td>\n",
              "      <td>80.000000</td>\n",
              "      <td>104.589333</td>\n",
              "      <td>41.348362</td>\n",
              "      <td>169.283829</td>\n",
              "      <td>803.465027</td>\n",
              "      <td>194.869995</td>\n",
              "      <td>480.024994</td>\n",
              "      <td>40.000000</td>\n",
              "      <td>46.315834</td>\n",
              "      <td>32.666668</td>\n",
              "    </tr>\n",
              "  </tbody>\n",
              "</table>\n",
              "</div>"
            ],
            "text/plain": [
              "            hhsize     adults_n   children_n     totalexp    Year  \\\n",
              "count  5114.000000  5114.000000  5114.000000  5114.000000  5114.0   \n",
              "mean      2.363707     1.841807     0.521901   519.898868  2014.0   \n",
              "std       1.244704     0.743052     0.945622   411.543093     0.0   \n",
              "min       1.000000     0.000000     0.000000  -246.916821  2014.0   \n",
              "25%       1.000000     1.000000     0.000000   260.598783  2014.0   \n",
              "50%       2.000000     2.000000     0.000000   426.977227  2014.0   \n",
              "75%       3.000000     2.000000     1.000000   651.003763  2014.0   \n",
              "max       9.000000     7.000000     7.000000  5859.877186  2014.0   \n",
              "\n",
              "            income       AgeHRP        qmeat        qfish          qfv  \\\n",
              "count  5114.000000  5114.000000  4873.000000  3542.000000  5017.000000   \n",
              "mean    679.542002    53.802698    10.475023     2.146960    25.727801   \n",
              "std     499.596175    16.187912     8.798118     2.034353    18.371345   \n",
              "min       0.000000    17.000000     0.086667     0.108333     0.060667   \n",
              "25%     306.954000    41.000000     4.452500     0.866667    12.222167   \n",
              "50%     548.086000    54.000000     8.374167     1.625000    22.245817   \n",
              "75%     925.652500    67.000000    14.005333     2.816667    35.037167   \n",
              "max    2134.090000    80.000000   104.589333    41.348362   169.283829   \n",
              "\n",
              "             xmeat        xfish          xfv       uvmeat       uvfish  \\\n",
              "count  4873.000000  3542.000000  5017.000000  4873.000000  3542.000000   \n",
              "mean     68.108342    19.635469    58.943391     7.072523     9.934257   \n",
              "std      57.347230    18.725096    44.751694     2.931651     5.485175   \n",
              "min       0.195000     0.000000     0.520000     0.357694     0.000000   \n",
              "25%      29.141668     6.917083    27.148333     5.171614     5.979375   \n",
              "50%      54.708336    13.736667    49.356667     6.575851     8.804690   \n",
              "75%      90.480003    26.000000    78.281662     8.295746    12.520942   \n",
              "max     803.465027   194.869995   480.024994    40.000000    46.315834   \n",
              "\n",
              "              uvfv  \n",
              "count  5017.000000  \n",
              "mean      2.508315  \n",
              "std       1.358023  \n",
              "min       0.159672  \n",
              "25%       1.760525  \n",
              "50%       2.254208  \n",
              "75%       2.893561  \n",
              "max      32.666668  "
            ]
          },
          "execution_count": 5,
          "metadata": {},
          "output_type": "execute_result"
        }
      ],
      "source": [
        "df0.describe()"
      ]
    },
    {
      "cell_type": "code",
      "execution_count": 7,
      "metadata": {},
      "outputs": [
        {
          "data": {
            "text/html": [
              "<div>\n",
              "<style scoped>\n",
              "    .dataframe tbody tr th:only-of-type {\n",
              "        vertical-align: middle;\n",
              "    }\n",
              "\n",
              "    .dataframe tbody tr th {\n",
              "        vertical-align: top;\n",
              "    }\n",
              "\n",
              "    .dataframe thead th {\n",
              "        text-align: right;\n",
              "    }\n",
              "</style>\n",
              "<table border=\"1\" class=\"dataframe\">\n",
              "  <thead>\n",
              "    <tr style=\"text-align: right;\">\n",
              "      <th></th>\n",
              "      <th>quarter</th>\n",
              "      <th>SexHRP</th>\n",
              "      <th>month</th>\n",
              "      <th>Gorx</th>\n",
              "    </tr>\n",
              "  </thead>\n",
              "  <tbody>\n",
              "    <tr>\n",
              "      <th>count</th>\n",
              "      <td>5114</td>\n",
              "      <td>5114</td>\n",
              "      <td>5114</td>\n",
              "      <td>5114</td>\n",
              "    </tr>\n",
              "    <tr>\n",
              "      <th>unique</th>\n",
              "      <td>4</td>\n",
              "      <td>2</td>\n",
              "      <td>12</td>\n",
              "      <td>12</td>\n",
              "    </tr>\n",
              "    <tr>\n",
              "      <th>top</th>\n",
              "      <td>April to June</td>\n",
              "      <td>Male</td>\n",
              "      <td>February</td>\n",
              "      <td>South East</td>\n",
              "    </tr>\n",
              "    <tr>\n",
              "      <th>freq</th>\n",
              "      <td>1341</td>\n",
              "      <td>3050</td>\n",
              "      <td>445</td>\n",
              "      <td>736</td>\n",
              "    </tr>\n",
              "  </tbody>\n",
              "</table>\n",
              "</div>"
            ],
            "text/plain": [
              "              quarter SexHRP     month        Gorx\n",
              "count            5114   5114      5114        5114\n",
              "unique              4      2        12          12\n",
              "top     April to June   Male  February  South East\n",
              "freq             1341   3050       445         736"
            ]
          },
          "execution_count": 7,
          "metadata": {},
          "output_type": "execute_result"
        }
      ],
      "source": [
        "df0.describe(include= \"O\")"
      ]
    },
    {
      "cell_type": "code",
      "execution_count": 6,
      "metadata": {},
      "outputs": [
        {
          "data": {
            "text/html": [
              "<div>\n",
              "<style scoped>\n",
              "    .dataframe tbody tr th:only-of-type {\n",
              "        vertical-align: middle;\n",
              "    }\n",
              "\n",
              "    .dataframe tbody tr th {\n",
              "        vertical-align: top;\n",
              "    }\n",
              "\n",
              "    .dataframe thead th {\n",
              "        text-align: right;\n",
              "    }\n",
              "</style>\n",
              "<table border=\"1\" class=\"dataframe\">\n",
              "  <thead>\n",
              "    <tr style=\"text-align: right;\">\n",
              "      <th></th>\n",
              "      <th>hhsize</th>\n",
              "      <th>quarter</th>\n",
              "      <th>adults_n</th>\n",
              "      <th>children_n</th>\n",
              "      <th>totalexp</th>\n",
              "      <th>SexHRP</th>\n",
              "      <th>month</th>\n",
              "      <th>Gorx</th>\n",
              "      <th>Year</th>\n",
              "      <th>income</th>\n",
              "      <th>AgeHRP</th>\n",
              "      <th>qmeat</th>\n",
              "      <th>qfish</th>\n",
              "      <th>qfv</th>\n",
              "      <th>xmeat</th>\n",
              "      <th>xfish</th>\n",
              "      <th>xfv</th>\n",
              "      <th>uvmeat</th>\n",
              "      <th>uvfish</th>\n",
              "      <th>uvfv</th>\n",
              "    </tr>\n",
              "  </thead>\n",
              "  <tbody>\n",
              "    <tr>\n",
              "      <th>0</th>\n",
              "      <td>4</td>\n",
              "      <td>April to June</td>\n",
              "      <td>2</td>\n",
              "      <td>2</td>\n",
              "      <td>556.213795</td>\n",
              "      <td>Female</td>\n",
              "      <td>April</td>\n",
              "      <td>West Midlands</td>\n",
              "      <td>2014</td>\n",
              "      <td>985.655</td>\n",
              "      <td>34</td>\n",
              "      <td>13.745333</td>\n",
              "      <td>NaN</td>\n",
              "      <td>37.301331</td>\n",
              "      <td>96.156670</td>\n",
              "      <td>NaN</td>\n",
              "      <td>69.268333</td>\n",
              "      <td>6.995586</td>\n",
              "      <td>NaN</td>\n",
              "      <td>1.856993</td>\n",
              "    </tr>\n",
              "    <tr>\n",
              "      <th>1</th>\n",
              "      <td>4</td>\n",
              "      <td>July to September</td>\n",
              "      <td>2</td>\n",
              "      <td>2</td>\n",
              "      <td>737.685635</td>\n",
              "      <td>Male</td>\n",
              "      <td>August</td>\n",
              "      <td>North East</td>\n",
              "      <td>2014</td>\n",
              "      <td>824.520</td>\n",
              "      <td>38</td>\n",
              "      <td>6.045000</td>\n",
              "      <td>0.650000</td>\n",
              "      <td>30.203335</td>\n",
              "      <td>53.278336</td>\n",
              "      <td>6.500000</td>\n",
              "      <td>62.833336</td>\n",
              "      <td>8.813621</td>\n",
              "      <td>10.000000</td>\n",
              "      <td>2.080344</td>\n",
              "    </tr>\n",
              "    <tr>\n",
              "      <th>2</th>\n",
              "      <td>2</td>\n",
              "      <td>October to December</td>\n",
              "      <td>2</td>\n",
              "      <td>0</td>\n",
              "      <td>330.775000</td>\n",
              "      <td>Male</td>\n",
              "      <td>October</td>\n",
              "      <td>Northern Ireland</td>\n",
              "      <td>2014</td>\n",
              "      <td>271.925</td>\n",
              "      <td>54</td>\n",
              "      <td>11.780167</td>\n",
              "      <td>2.088667</td>\n",
              "      <td>17.032166</td>\n",
              "      <td>93.838333</td>\n",
              "      <td>28.491667</td>\n",
              "      <td>42.813335</td>\n",
              "      <td>7.965790</td>\n",
              "      <td>13.641079</td>\n",
              "      <td>2.513675</td>\n",
              "    </tr>\n",
              "    <tr>\n",
              "      <th>3</th>\n",
              "      <td>2</td>\n",
              "      <td>April to June</td>\n",
              "      <td>2</td>\n",
              "      <td>0</td>\n",
              "      <td>536.742283</td>\n",
              "      <td>Male</td>\n",
              "      <td>June</td>\n",
              "      <td>North West and Merseyside</td>\n",
              "      <td>2014</td>\n",
              "      <td>611.490</td>\n",
              "      <td>64</td>\n",
              "      <td>2.745167</td>\n",
              "      <td>NaN</td>\n",
              "      <td>4.008333</td>\n",
              "      <td>16.856667</td>\n",
              "      <td>NaN</td>\n",
              "      <td>5.416667</td>\n",
              "      <td>6.140490</td>\n",
              "      <td>NaN</td>\n",
              "      <td>1.351351</td>\n",
              "    </tr>\n",
              "    <tr>\n",
              "      <th>4</th>\n",
              "      <td>3</td>\n",
              "      <td>April to June</td>\n",
              "      <td>3</td>\n",
              "      <td>0</td>\n",
              "      <td>880.787157</td>\n",
              "      <td>Male</td>\n",
              "      <td>April</td>\n",
              "      <td>East Midlands</td>\n",
              "      <td>2014</td>\n",
              "      <td>496.040</td>\n",
              "      <td>64</td>\n",
              "      <td>12.857000</td>\n",
              "      <td>2.903333</td>\n",
              "      <td>7.345000</td>\n",
              "      <td>73.623337</td>\n",
              "      <td>16.921667</td>\n",
              "      <td>19.261665</td>\n",
              "      <td>5.726323</td>\n",
              "      <td>5.828358</td>\n",
              "      <td>2.622419</td>\n",
              "    </tr>\n",
              "  </tbody>\n",
              "</table>\n",
              "</div>"
            ],
            "text/plain": [
              "   hhsize              quarter  adults_n  children_n    totalexp  SexHRP  \\\n",
              "0       4        April to June         2           2  556.213795  Female   \n",
              "1       4    July to September         2           2  737.685635    Male   \n",
              "2       2  October to December         2           0  330.775000    Male   \n",
              "3       2        April to June         2           0  536.742283    Male   \n",
              "4       3        April to June         3           0  880.787157    Male   \n",
              "\n",
              "     month                       Gorx  Year   income  AgeHRP      qmeat  \\\n",
              "0    April              West Midlands  2014  985.655      34  13.745333   \n",
              "1   August                 North East  2014  824.520      38   6.045000   \n",
              "2  October           Northern Ireland  2014  271.925      54  11.780167   \n",
              "3     June  North West and Merseyside  2014  611.490      64   2.745167   \n",
              "4    April              East Midlands  2014  496.040      64  12.857000   \n",
              "\n",
              "      qfish        qfv      xmeat      xfish        xfv    uvmeat     uvfish  \\\n",
              "0       NaN  37.301331  96.156670        NaN  69.268333  6.995586        NaN   \n",
              "1  0.650000  30.203335  53.278336   6.500000  62.833336  8.813621  10.000000   \n",
              "2  2.088667  17.032166  93.838333  28.491667  42.813335  7.965790  13.641079   \n",
              "3       NaN   4.008333  16.856667        NaN   5.416667  6.140490        NaN   \n",
              "4  2.903333   7.345000  73.623337  16.921667  19.261665  5.726323   5.828358   \n",
              "\n",
              "       uvfv  \n",
              "0  1.856993  \n",
              "1  2.080344  \n",
              "2  2.513675  \n",
              "3  1.351351  \n",
              "4  2.622419  "
            ]
          },
          "execution_count": 6,
          "metadata": {},
          "output_type": "execute_result"
        }
      ],
      "source": [
        "df0.head()"
      ]
    },
    {
      "cell_type": "markdown",
      "metadata": {},
      "source": [
        "##### Show the number of rows with nulls\n",
        "\n",
        "It is computed subtracting the number of rows in the dataset without nulls from the original number of rows"
      ]
    },
    {
      "cell_type": "code",
      "execution_count": 23,
      "metadata": {},
      "outputs": [
        {
          "name": "stdout",
          "output_type": "stream",
          "text": [
            "Features\t N of NaNs\n",
            "------------------------------\n",
            "hhsize           0\n",
            "quarter          0\n",
            "adults_n         0\n",
            "children_n       0\n",
            "totalexp         0\n",
            "SexHRP           0\n",
            "month            0\n",
            "Gorx             0\n",
            "Year             0\n",
            "income           0\n",
            "AgeHRP           0\n",
            "qmeat          241\n",
            "qfish         1572\n",
            "qfv             97\n",
            "xmeat          241\n",
            "xfish         1572\n",
            "xfv             97\n",
            "uvmeat         241\n",
            "uvfish        1572\n",
            "uvfv            97\n",
            "dtype: int64\n"
          ]
        }
      ],
      "source": [
        "print(\"Features\\t N of NaNs\")\n",
        "print(\"-\"*30)\n",
        "print(df0.isna().sum())"
      ]
    },
    {
      "cell_type": "markdown",
      "metadata": {},
      "source": [
        "#### Drop rows with nulls"
      ]
    },
    {
      "cell_type": "code",
      "execution_count": 47,
      "metadata": {},
      "outputs": [
        {
          "name": "stdout",
          "output_type": "stream",
          "text": [
            "After dropping rows with nulls the dataset has 3446 rows\n"
          ]
        }
      ],
      "source": [
        "df = df0.dropna()       #returns a copy of the df without rows that contains NaN\n",
        "print(f\"After dropping rows with nulls the dataset has {df.shape[0]} rows\")"
      ]
    },
    {
      "cell_type": "markdown",
      "metadata": {},
      "source": [
        "##### Data transormation\n",
        "- Convert the alphanumeric SexHRP into numeric 0 and 1\n",
        "    - the `sklearn` machine learning procedures work only with numeric predicting\n",
        "      attributes\n",
        "- Generate two new columns as ratio of other columns\n",
        "    - this is suggested by background information"
      ]
    },
    {
      "cell_type": "code",
      "execution_count": 48,
      "metadata": {},
      "outputs": [],
      "source": [
        "df.SexHRP.replace((\"Male\", \"Female\"), (1, 0), inplace= True)\n",
        "df.SexHRP\n",
        "# print(df.columns)\n",
        "df[\"qmeat_hhsize_ratio\"] = df.qmeat/df.hhsize\n",
        "df[\"income_hhsize_ratio\"] = df.income/df.hhsize\n"
      ]
    },
    {
      "cell_type": "markdown",
      "metadata": {},
      "source": [
        "##### Use only the columns that the experts consider interesting\n",
        "This is suggested by background information"
      ]
    },
    {
      "cell_type": "code",
      "execution_count": 49,
      "metadata": {},
      "outputs": [
        {
          "data": {
            "text/html": [
              "<div>\n",
              "<style scoped>\n",
              "    .dataframe tbody tr th:only-of-type {\n",
              "        vertical-align: middle;\n",
              "    }\n",
              "\n",
              "    .dataframe tbody tr th {\n",
              "        vertical-align: top;\n",
              "    }\n",
              "\n",
              "    .dataframe thead th {\n",
              "        text-align: right;\n",
              "    }\n",
              "</style>\n",
              "<table border=\"1\" class=\"dataframe\">\n",
              "  <thead>\n",
              "    <tr style=\"text-align: right;\">\n",
              "      <th></th>\n",
              "      <th>adults_n</th>\n",
              "      <th>children_n</th>\n",
              "      <th>SexHRP</th>\n",
              "      <th>AgeHRP</th>\n",
              "      <th>qmeat_hhsize_ratio</th>\n",
              "      <th>income_hhsize_ratio</th>\n",
              "      <th>uvmeat</th>\n",
              "    </tr>\n",
              "  </thead>\n",
              "  <tbody>\n",
              "    <tr>\n",
              "      <th>1</th>\n",
              "      <td>2</td>\n",
              "      <td>2</td>\n",
              "      <td>1</td>\n",
              "      <td>38</td>\n",
              "      <td>1.511250</td>\n",
              "      <td>206.130000</td>\n",
              "      <td>8.813621</td>\n",
              "    </tr>\n",
              "    <tr>\n",
              "      <th>2</th>\n",
              "      <td>2</td>\n",
              "      <td>0</td>\n",
              "      <td>1</td>\n",
              "      <td>54</td>\n",
              "      <td>5.890083</td>\n",
              "      <td>135.962500</td>\n",
              "      <td>7.965790</td>\n",
              "    </tr>\n",
              "    <tr>\n",
              "      <th>4</th>\n",
              "      <td>3</td>\n",
              "      <td>0</td>\n",
              "      <td>1</td>\n",
              "      <td>64</td>\n",
              "      <td>4.285667</td>\n",
              "      <td>165.346667</td>\n",
              "      <td>5.726323</td>\n",
              "    </tr>\n",
              "    <tr>\n",
              "      <th>5</th>\n",
              "      <td>2</td>\n",
              "      <td>2</td>\n",
              "      <td>1</td>\n",
              "      <td>70</td>\n",
              "      <td>8.968250</td>\n",
              "      <td>66.632500</td>\n",
              "      <td>8.451528</td>\n",
              "    </tr>\n",
              "    <tr>\n",
              "      <th>7</th>\n",
              "      <td>3</td>\n",
              "      <td>0</td>\n",
              "      <td>1</td>\n",
              "      <td>64</td>\n",
              "      <td>4.079111</td>\n",
              "      <td>134.393333</td>\n",
              "      <td>5.904745</td>\n",
              "    </tr>\n",
              "  </tbody>\n",
              "</table>\n",
              "</div>"
            ],
            "text/plain": [
              "   adults_n  children_n  SexHRP  AgeHRP  qmeat_hhsize_ratio  \\\n",
              "1         2           2       1      38            1.511250   \n",
              "2         2           0       1      54            5.890083   \n",
              "4         3           0       1      64            4.285667   \n",
              "5         2           2       1      70            8.968250   \n",
              "7         3           0       1      64            4.079111   \n",
              "\n",
              "   income_hhsize_ratio    uvmeat  \n",
              "1           206.130000  8.813621  \n",
              "2           135.962500  7.965790  \n",
              "4           165.346667  5.726323  \n",
              "5            66.632500  8.451528  \n",
              "7           134.393333  5.904745  "
            ]
          },
          "execution_count": 49,
          "metadata": {},
          "output_type": "execute_result"
        }
      ],
      "source": [
        "df = df[[\"adults_n\", \"children_n\",\"SexHRP\",\"AgeHRP\",\"qmeat_hhsize_ratio\", \"income_hhsize_ratio\", \"uvmeat\"]]\n",
        "df.head()"
      ]
    },
    {
      "cell_type": "markdown",
      "metadata": {},
      "source": [
        "## Choose the target and split the data into *predicting variables* `X` and *target* `y`"
      ]
    },
    {
      "cell_type": "code",
      "execution_count": 50,
      "metadata": {},
      "outputs": [],
      "source": [
        "target = \"qmeat_hhsize_ratio\"\n",
        "Y = df[target]\n",
        "X = df.drop(target, axis=1)"
      ]
    },
    {
      "cell_type": "markdown",
      "metadata": {},
      "source": [
        "## Show the two dimensional scatter plots for all the predicting variables with respect to the target"
      ]
    },
    {
      "cell_type": "code",
      "execution_count": 51,
      "metadata": {},
      "outputs": [],
      "source": [
        "ncols=3\n",
        "import math\n",
        "nrows = math.ceil((df.shape[1]-1)/ncols)\n",
        "figwidth = ncols * 7\n",
        "figheigth = nrows*5\n"
      ]
    },
    {
      "cell_type": "code",
      "execution_count": 53,
      "metadata": {},
      "outputs": [
        {
          "data": {
            "image/png": "[encoded data removed]",
            "text/plain": [
              "<Figure size 2100x1000 with 6 Axes>"
            ]
          },
          "metadata": {},
          "output_type": "display_data"
        }
      ],
      "source": [
        "plt.figure(figsize=(figwidth, figheigth))\n",
        "plt.suptitle(\"target versus predicting variables\")\n",
        "for i, col in enumerate(X.columns):\n",
        "    plt.subplot(nrows, ncols, i + 1)\n",
        "    plt.title(f\"\\\"{target}\\\" versus \\\"{df.columns[i-1]}\\\"\")\n",
        "    plt.scatter(X[col], Y)\n",
        "    plt.ylabel(target)\n",
        "    plt.xlabel(col)"
      ]
    },
    {
      "cell_type": "markdown",
      "metadata": {},
      "source": [
        "### Show the *_p-values_* of the target with respect to the variables"
      ]
    },
    {
      "cell_type": "code",
      "execution_count": 55,
      "metadata": {},
      "outputs": [
        {
          "data": {
            "text/html": [
              "<div>\n",
              "<style scoped>\n",
              "    .dataframe tbody tr th:only-of-type {\n",
              "        vertical-align: middle;\n",
              "    }\n",
              "\n",
              "    .dataframe tbody tr th {\n",
              "        vertical-align: top;\n",
              "    }\n",
              "\n",
              "    .dataframe thead th {\n",
              "        text-align: right;\n",
              "    }\n",
              "</style>\n",
              "<table border=\"1\" class=\"dataframe\">\n",
              "  <thead>\n",
              "    <tr style=\"text-align: right;\">\n",
              "      <th></th>\n",
              "      <th>Variable</th>\n",
              "      <th>p-value</th>\n",
              "    </tr>\n",
              "  </thead>\n",
              "  <tbody>\n",
              "    <tr>\n",
              "      <th>0</th>\n",
              "      <td>adults_n</td>\n",
              "      <td>1.415945e-05</td>\n",
              "    </tr>\n",
              "    <tr>\n",
              "      <th>1</th>\n",
              "      <td>children_n</td>\n",
              "      <td>1.077386e-30</td>\n",
              "    </tr>\n",
              "    <tr>\n",
              "      <th>2</th>\n",
              "      <td>SexHRP</td>\n",
              "      <td>8.429827e-02</td>\n",
              "    </tr>\n",
              "    <tr>\n",
              "      <th>3</th>\n",
              "      <td>AgeHRP</td>\n",
              "      <td>1.710126e-21</td>\n",
              "    </tr>\n",
              "    <tr>\n",
              "      <th>4</th>\n",
              "      <td>income_hhsize_ratio</td>\n",
              "      <td>1.211099e-03</td>\n",
              "    </tr>\n",
              "    <tr>\n",
              "      <th>5</th>\n",
              "      <td>uvmeat</td>\n",
              "      <td>4.789746e-52</td>\n",
              "    </tr>\n",
              "  </tbody>\n",
              "</table>\n",
              "</div>"
            ],
            "text/plain": [
              "              Variable       p-value\n",
              "0             adults_n  1.415945e-05\n",
              "1           children_n  1.077386e-30\n",
              "2               SexHRP  8.429827e-02\n",
              "3               AgeHRP  1.710126e-21\n",
              "4  income_hhsize_ratio  1.211099e-03\n",
              "5               uvmeat  4.789746e-52"
            ]
          },
          "execution_count": 55,
          "metadata": {},
          "output_type": "execute_result"
        }
      ],
      "source": [
        "from sklearn.feature_selection import f_regression\n",
        "# Your code here\n",
        "feature, pvalues = f_regression(X, Y)\n",
        "p_values_show = pd.DataFrame({'Variable': X.columns, 'p-value': pvalues})\n",
        "p_values_show"
      ]
    },
    {
      "cell_type": "markdown",
      "metadata": {},
      "source": [
        "## Split the data into *train* and *test* and show the sizes of the two parts\n",
        "Here we set the `random_state` variable to make the experiment *repeatable*\n"
      ]
    },
    {
      "cell_type": "code",
      "execution_count": 33,
      "metadata": {},
      "outputs": [
        {
          "name": "stdout",
          "output_type": "stream",
          "text": [
            "Training set and test set have 2584 and 862 elements respectively\n"
          ]
        }
      ],
      "source": [
        "Xtrain, Xtest, Ytrain, Ytest = train_test_split(X, Y, random_state= random_state)\n",
        "print(f\"Training set and test set have {Ytrain.shape[0]} and {Ytest.shape[0]} elements respectively\")"
      ]
    },
    {
      "cell_type": "markdown",
      "metadata": {},
      "source": [
        "### Consider a reduced dataset containing the chosen variable and the target"
      ]
    },
    {
      "cell_type": "code",
      "execution_count": 34,
      "metadata": {},
      "outputs": [],
      "source": [
        "chosen_variable = X.columns[4]\n",
        "\n",
        "Xtrain_r = Xtrain[[chosen_variable]]  # [[ ... ]] double square brackets are for creating another data frame. otherwise, it returns a sequence. The difference is the shape!\n",
        "Xtest_r  = Xtest [[chosen_variable]]\n",
        "# Xtrain_r = np.array(Xtrain_r).reshape(-1,1)\n",
        "# Xtest_r = np.array(Xtest_r).reshape(-1,1)"
      ]
    },
    {
      "cell_type": "markdown",
      "metadata": {},
      "source": [
        "### Fit the `linear_model` estimator on the training set and predict the target for the test set using the *fitted* estimator"
      ]
    },
    {
      "cell_type": "code",
      "execution_count": 62,
      "metadata": {},
      "outputs": [
        {
          "data": {
            "image/png": "[encoded data removed]",
            "text/plain": [
              "<Figure size 640x480 with 1 Axes>"
            ]
          },
          "metadata": {},
          "output_type": "display_data"
        }
      ],
      "source": [
        "from sklearn.linear_model import LinearRegression\n",
        "model = LinearRegression()\n",
        "model.fit(Xtrain_r, Ytrain)\n",
        "Y_pred_train = model.predict(Xtrain_r)\n",
        "Y_pred_test = model.predict(Xtest_r)\n",
        "\n",
        "plt.title(\"Linear regression on train data\")\n",
        "plt.xlabel(chosen_variable)\n",
        "plt.ylabel(target)\n",
        "plt.scatter(Xtrain_r, Ytrain, color= \"blue\")\n",
        "plt.plot(Xtrain_r, Y_pred_train, \"-\", color= \"orange\")\n",
        "plt.show()"
      ]
    },
    {
      "cell_type": "markdown",
      "metadata": {},
      "source": [
        "#### Compute the regression coefficients and the quality measures\n",
        "Create a function to compute the F-statistic and p-value of the regression model"
      ]
    },
    {
      "cell_type": "code",
      "execution_count": 60,
      "metadata": {},
      "outputs": [],
      "source": [
        "# Computation of F-statistic and p-value for the regression\n",
        "# http://facweb.cs.depaul.edu/sjost/csc423/documents/f-test-reg.htm\n",
        "def f_test(y_true, y_pred, n_var, n_obs):\n",
        "    \"\"\"\n",
        "    The F-test for linear regression tests whether any of the independent variables in a multiple linear regression model are significant.\n",
        "    y_true\n",
        "    t_pred\n",
        "    n_var == number of regression variables\n",
        "    n_obs == number of observations (examples)\n",
        "    \"\"\"\n",
        "    \n",
        "    y_true = np.array(y_true)\n",
        "    y_pred = np.array(y_pred)\n",
        "    n = n_obs           # number of observations\n",
        "    p = n_var + 1       # number of regression parameters = number of columns + bias\n",
        "    y_avg = np.mean(y_true)\n",
        "    SSM = np.sum((y_pred - y_avg)**2)       # Corrected Sum of Squares for Model\n",
        "    SSE = np.sum((y_pred - y_true)**2)      # Sum of Squares for Error\n",
        "    SST = np.sum((y_true - y_avg)**2)       # Corrected Sum of Squares Total\n",
        "    DFM = p - 1         # degrees of freedom for the Model\n",
        "    DFE = n - p         # degrees of freedom for the Error\n",
        "    DFT = n - 1         # degrees of freedom in total\n",
        "    MSM = SSM / DFM         # Mean of Squares for Model\n",
        "    MSE = SSE / DFE         # Mean of Squares for Error\n",
        "    MST = SST / DFT         # Mean of Squares total\n",
        "    R2 = 1 - SSE / SST      # R^2 value\n",
        "    F = MSM / MSE           #F test statistic\n",
        "    p = 1-scipy.stats.f.cdf(F, DFM, DFE) #find p-value of F test statistic \n",
        "    return F, p\n",
        "    "
      ]
    },
    {
      "cell_type": "markdown",
      "metadata": {},
      "source": [
        "#### Compute the statistical significance of the model"
      ]
    },
    {
      "cell_type": "code",
      "execution_count": 68,
      "metadata": {},
      "outputs": [
        {
          "data": {
            "text/html": [
              "<div>\n",
              "<style scoped>\n",
              "    .dataframe tbody tr th:only-of-type {\n",
              "        vertical-align: middle;\n",
              "    }\n",
              "\n",
              "    .dataframe tbody tr th {\n",
              "        vertical-align: top;\n",
              "    }\n",
              "\n",
              "    .dataframe thead th {\n",
              "        text-align: right;\n",
              "    }\n",
              "</style>\n",
              "<table border=\"1\" class=\"dataframe\">\n",
              "  <thead>\n",
              "    <tr style=\"text-align: right;\">\n",
              "      <th></th>\n",
              "      <th>Univariate Linear - Value</th>\n",
              "    </tr>\n",
              "  </thead>\n",
              "  <tbody>\n",
              "    <tr>\n",
              "      <th>Intercept for \"qmeat_hhsize_ratio\"</th>\n",
              "      <td>7.514601e+00</td>\n",
              "    </tr>\n",
              "    <tr>\n",
              "      <th>Coefficient for \"qmeat_hhsize_ratio\"</th>\n",
              "      <td>-3.518952e-01</td>\n",
              "    </tr>\n",
              "    <tr>\n",
              "      <th>rmse</th>\n",
              "      <td>3.882669e+00</td>\n",
              "    </tr>\n",
              "    <tr>\n",
              "      <th>r2</th>\n",
              "      <td>5.857732e-02</td>\n",
              "    </tr>\n",
              "    <tr>\n",
              "      <th>f-statistic</th>\n",
              "      <td>1.841393e+02</td>\n",
              "    </tr>\n",
              "    <tr>\n",
              "      <th>p-value</th>\n",
              "      <td>1.110223e-16</td>\n",
              "    </tr>\n",
              "  </tbody>\n",
              "</table>\n",
              "</div>"
            ],
            "text/plain": [
              "                                      Univariate Linear - Value\n",
              "Intercept for \"qmeat_hhsize_ratio\"                 7.514601e+00\n",
              "Coefficient for \"qmeat_hhsize_ratio\"              -3.518952e-01\n",
              "rmse                                               3.882669e+00\n",
              "r2                                                 5.857732e-02\n",
              "f-statistic                                        1.841393e+02\n",
              "p-value                                            1.110223e-16"
            ]
          },
          "execution_count": 68,
          "metadata": {},
          "output_type": "execute_result"
        }
      ],
      "source": [
        "f_stat_uni, p_val_uni = f_test(Ytrain, Y_pred_train, Xtrain_r.shape[1], Xtrain_r.shape[0])\n",
        "intercept_uni = model.intercept_[0]\n",
        "coeff_uni = model.coef_[0,0]\n",
        "rmse_uni = mean_squared_error(Ytest, Y_pred_test, squared= False)\n",
        "r2_uni = r2_score(Ytest, Y_pred_test)\n",
        "\n",
        "statistical_significance_uni = pd.DataFrame({\"Univariate Linear - Value\": [intercept_uni, coeff_uni, rmse_uni, r2_uni, f_stat_uni, p_val_uni]},\n",
        "                                            index = [f'Intercept for \"{target}\"', f'Coefficient for \"{target}\"', \"rmse\", \"r2\", \"f-statistic\", \"p-value\"])\n",
        "statistical_significance_uni"
      ]
    },
    {
      "cell_type": "markdown",
      "metadata": {},
      "source": [
        "## Second experiment: compute the regression considering all the predicting variables"
      ]
    },
    {
      "cell_type": "markdown",
      "metadata": {},
      "source": [
        "### Now we use the entire data in `X_train` and `X_test` for fitting and predicting"
      ]
    },
    {
      "cell_type": "code",
      "execution_count": 75,
      "metadata": {},
      "outputs": [],
      "source": [
        "model_2 = LinearRegression()\n",
        "model_2.fit(Xtrain, Ytrain)\n",
        "\n",
        "Y_pred_train_2 = model_2.predict(Xtrain)\n",
        "Y_pred_test_2 = model_2.predict(Xtest)"
      ]
    },
    {
      "cell_type": "markdown",
      "metadata": {},
      "source": [
        "### Fit, predict and show the results\n",
        "Now we see the *regression coefficients* resulting from the fitting. \n",
        "\n",
        "In particular, *positive coefficients* indicate that the target *increases* with the variable, *negative coefficients* indicate a *decreasing* trend.\n",
        "\n",
        "The absolute values of the coefficient cannot be considered directly a measure of importance, due to the possibly different orders of magnitude of the data in the different columns (observe above the outputs of `describe`)."
      ]
    },
    {
      "cell_type": "code",
      "execution_count": 72,
      "metadata": {},
      "outputs": [
        {
          "data": {
            "text/html": [
              "<div>\n",
              "<style scoped>\n",
              "    .dataframe tbody tr th:only-of-type {\n",
              "        vertical-align: middle;\n",
              "    }\n",
              "\n",
              "    .dataframe tbody tr th {\n",
              "        vertical-align: top;\n",
              "    }\n",
              "\n",
              "    .dataframe thead th {\n",
              "        text-align: right;\n",
              "    }\n",
              "</style>\n",
              "<table border=\"1\" class=\"dataframe\">\n",
              "  <thead>\n",
              "    <tr style=\"text-align: right;\">\n",
              "      <th></th>\n",
              "      <th>Variable</th>\n",
              "      <th>Coefficient</th>\n",
              "    </tr>\n",
              "  </thead>\n",
              "  <tbody>\n",
              "    <tr>\n",
              "      <th>0</th>\n",
              "      <td>adults_n</td>\n",
              "      <td>-0.340699</td>\n",
              "    </tr>\n",
              "    <tr>\n",
              "      <th>1</th>\n",
              "      <td>children_n</td>\n",
              "      <td>-0.642617</td>\n",
              "    </tr>\n",
              "    <tr>\n",
              "      <th>2</th>\n",
              "      <td>SexHRP</td>\n",
              "      <td>0.326706</td>\n",
              "    </tr>\n",
              "    <tr>\n",
              "      <th>3</th>\n",
              "      <td>AgeHRP</td>\n",
              "      <td>0.016193</td>\n",
              "    </tr>\n",
              "    <tr>\n",
              "      <th>4</th>\n",
              "      <td>income_hhsize_ratio</td>\n",
              "      <td>-0.385138</td>\n",
              "    </tr>\n",
              "    <tr>\n",
              "      <th>5</th>\n",
              "      <td>uvmeat</td>\n",
              "      <td>0.000969</td>\n",
              "    </tr>\n",
              "  </tbody>\n",
              "</table>\n",
              "</div>"
            ],
            "text/plain": [
              "              Variable  Coefficient\n",
              "0             adults_n    -0.340699\n",
              "1           children_n    -0.642617\n",
              "2               SexHRP     0.326706\n",
              "3               AgeHRP     0.016193\n",
              "4  income_hhsize_ratio    -0.385138\n",
              "5               uvmeat     0.000969"
            ]
          },
          "execution_count": 72,
          "metadata": {},
          "output_type": "execute_result"
        }
      ],
      "source": [
        "coefficients_df = pd.DataFrame({\"Variable\": X.columns, \"Coefficient\": model_2.coef_[0]})\n",
        "coefficients_df"
      ]
    },
    {
      "cell_type": "markdown",
      "metadata": {},
      "source": [
        "#### Compute the statistical significance"
      ]
    },
    {
      "cell_type": "code",
      "execution_count": 74,
      "metadata": {},
      "outputs": [
        {
          "data": {
            "text/html": [
              "<div>\n",
              "<style scoped>\n",
              "    .dataframe tbody tr th:only-of-type {\n",
              "        vertical-align: middle;\n",
              "    }\n",
              "\n",
              "    .dataframe tbody tr th {\n",
              "        vertical-align: top;\n",
              "    }\n",
              "\n",
              "    .dataframe thead th {\n",
              "        text-align: right;\n",
              "    }\n",
              "</style>\n",
              "<table border=\"1\" class=\"dataframe\">\n",
              "  <thead>\n",
              "    <tr style=\"text-align: right;\">\n",
              "      <th></th>\n",
              "      <th>Variable</th>\n",
              "      <th>p-value</th>\n",
              "    </tr>\n",
              "  </thead>\n",
              "  <tbody>\n",
              "    <tr>\n",
              "      <th>0</th>\n",
              "      <td>adults_n</td>\n",
              "      <td>8.287955e-25</td>\n",
              "    </tr>\n",
              "    <tr>\n",
              "      <th>1</th>\n",
              "      <td>children_n</td>\n",
              "      <td>5.773255e-210</td>\n",
              "    </tr>\n",
              "    <tr>\n",
              "      <th>2</th>\n",
              "      <td>SexHRP</td>\n",
              "      <td>3.876514e-07</td>\n",
              "    </tr>\n",
              "    <tr>\n",
              "      <th>3</th>\n",
              "      <td>AgeHRP</td>\n",
              "      <td>1.799147e-139</td>\n",
              "    </tr>\n",
              "    <tr>\n",
              "      <th>4</th>\n",
              "      <td>income_hhsize_ratio</td>\n",
              "      <td>0.000000e+00</td>\n",
              "    </tr>\n",
              "    <tr>\n",
              "      <th>5</th>\n",
              "      <td>uvmeat</td>\n",
              "      <td>2.676936e-10</td>\n",
              "    </tr>\n",
              "  </tbody>\n",
              "</table>\n",
              "</div>"
            ],
            "text/plain": [
              "              Variable        p-value\n",
              "0             adults_n   8.287955e-25\n",
              "1           children_n  5.773255e-210\n",
              "2               SexHRP   3.876514e-07\n",
              "3               AgeHRP  1.799147e-139\n",
              "4  income_hhsize_ratio   0.000000e+00\n",
              "5               uvmeat   2.676936e-10"
            ]
          },
          "execution_count": 74,
          "metadata": {},
          "output_type": "execute_result"
        }
      ],
      "source": [
        "_, pvalues = f_regression(Xtrain, Y_pred_train_2)\n",
        "p_values_show = pd.DataFrame({'Variable': X.columns, 'p-value': pvalues})\n",
        "p_values_show"
      ]
    },
    {
      "cell_type": "markdown",
      "metadata": {},
      "source": [
        "#### Compute the quality measures"
      ]
    },
    {
      "cell_type": "code",
      "execution_count": 78,
      "metadata": {},
      "outputs": [
        {
          "data": {
            "text/html": [
              "<div>\n",
              "<style scoped>\n",
              "    .dataframe tbody tr th:only-of-type {\n",
              "        vertical-align: middle;\n",
              "    }\n",
              "\n",
              "    .dataframe tbody tr th {\n",
              "        vertical-align: top;\n",
              "    }\n",
              "\n",
              "    .dataframe thead th {\n",
              "        text-align: right;\n",
              "    }\n",
              "</style>\n",
              "<table border=\"1\" class=\"dataframe\">\n",
              "  <thead>\n",
              "    <tr style=\"text-align: right;\">\n",
              "      <th></th>\n",
              "      <th>Multivariate Linear - Value</th>\n",
              "    </tr>\n",
              "  </thead>\n",
              "  <tbody>\n",
              "    <tr>\n",
              "      <th>rmse</th>\n",
              "      <td>3.882669e+00</td>\n",
              "    </tr>\n",
              "    <tr>\n",
              "      <th>r2</th>\n",
              "      <td>5.857732e-02</td>\n",
              "    </tr>\n",
              "    <tr>\n",
              "      <th>f-statistic</th>\n",
              "      <td>6.066796e+01</td>\n",
              "    </tr>\n",
              "    <tr>\n",
              "      <th>p-value</th>\n",
              "      <td>1.110223e-16</td>\n",
              "    </tr>\n",
              "  </tbody>\n",
              "</table>\n",
              "</div>"
            ],
            "text/plain": [
              "             Multivariate Linear - Value\n",
              "rmse                        3.882669e+00\n",
              "r2                          5.857732e-02\n",
              "f-statistic                 6.066796e+01\n",
              "p-value                     1.110223e-16"
            ]
          },
          "execution_count": 78,
          "metadata": {},
          "output_type": "execute_result"
        }
      ],
      "source": [
        "f_stat_multi, p_val_multi = f_test(Ytrain, Y_pred_train_2, Xtrain.shape[1], Xtrain.shape[0])\n",
        "rmse_multi = mean_squared_error(Ytest, Y_pred_test, squared= False)\n",
        "r2_multi = r2_score(Ytest, Y_pred_test)\n",
        "\n",
        "statistical_significance_multi = pd.DataFrame({\"Multivariate Linear - Value\": [rmse_multi, r2_multi, f_stat_multi, p_val_multi]},\n",
        "                                            index = [\"rmse\", \"r2\", \"f-statistic\", \"p-value\"])\n",
        "statistical_significance_multi"
      ]
    },
    {
      "cell_type": "markdown",
      "metadata": {},
      "source": [
        "## Decision Tree Multivariate Regresson"
      ]
    },
    {
      "cell_type": "code",
      "execution_count": 79,
      "metadata": {},
      "outputs": [],
      "source": [
        "# Create Decision Tree regression object\n",
        "from sklearn.tree import DecisionTreeRegressor"
      ]
    },
    {
      "cell_type": "markdown",
      "metadata": {},
      "source": [
        "#### Fit the tree with default hyperparameters, and find the maximum depth of the unconstrained tree"
      ]
    },
    {
      "cell_type": "code",
      "execution_count": 82,
      "metadata": {},
      "outputs": [
        {
          "name": "stdout",
          "output_type": "stream",
          "text": [
            "The maximum depth of the full Decision Tree Regressor is 33\n"
          ]
        }
      ],
      "source": [
        "treemodel = DecisionTreeRegressor(random_state= random_state)\n",
        "treemodel.fit(Xtrain, Ytrain)\n",
        "\n",
        "max_depth = treemodel.tree_.max_depth\n",
        "print(f\"The maximum depth of the full Decision Tree Regressor is {max_depth}\")\n",
        "#??????????????????????????????????????????????????????????????????????????????????????"
      ]
    },
    {
      "cell_type": "markdown",
      "metadata": {},
      "source": [
        "#### Find the optimal value of the hyperparameter `max_depth` with *cross-validation*\n",
        "The optimization searches for the *maximum tree depth* guaranteing the smallest mean squared error\n",
        "At the end, this operation returns also the *fitted best tree* `best_estimator_`"
      ]
    },
    {
      "cell_type": "code",
      "execution_count": 103,
      "metadata": {},
      "outputs": [
        {
          "name": "stdout",
          "output_type": "stream",
          "text": [
            "The optimal maximum depth for the decision tree is 2\n"
          ]
        }
      ],
      "source": [
        "from sklearn.model_selection import GridSearchCV\n",
        "\n",
        "params = {\"max_depth\": list(range(1, max_depth))}\n",
        "gscv = GridSearchCV(estimator= DecisionTreeRegressor(random_state= random_state), param_grid= params)\n",
        "\n",
        "# The grid search Cross Validation takes the dict of parameters relative to the estimator. \n",
        "# The key must be the name of the hyperparameter; the values are the list of the possible values of that hyperparameter\n",
        "\n",
        "gscv.fit(Xtrain, Ytrain)\n",
        "\n",
        "# When fit --> it runs all the possible combinations and then checks the one with the best result.\n",
        "# .best_estimator returns the best model (class of the model)\n",
        "\n",
        "dt_best = gscv.best_estimator_\n",
        "best_depth = dt_best.tree_.max_depth\n",
        "print(f\"The optimal maximum depth for the decision tree is {best_depth}\")"
      ]
    },
    {
      "cell_type": "code",
      "execution_count": 91,
      "metadata": {},
      "outputs": [
        {
          "name": "stdout",
          "output_type": "stream",
          "text": [
            "Decision Tree Regression - RMSE = 3.876006183139189\n"
          ]
        }
      ],
      "source": [
        "y_pred_dtr = dt_best.predict(Xtest)\n",
        "\n",
        "rmse_dt = mean_squared_error(Ytest, y_pred_dtr, squared= False)\n",
        "\n",
        "print(f\"Decision Tree Regression - RMSE = {rmse_dt}\")"
      ]
    },
    {
      "cell_type": "markdown",
      "metadata": {},
      "source": [
        "#### Show the tree"
      ]
    },
    {
      "cell_type": "code",
      "execution_count": 100,
      "metadata": {},
      "outputs": [
        {
          "data": {
            "image/png": "[encoded data removed]",
            "text/plain": [
              "<Figure size 1500x1000 with 1 Axes>"
            ]
          },
          "metadata": {},
          "output_type": "display_data"
        }
      ],
      "source": [
        "from sklearn.tree import plot_tree\n",
        "from matplotlib.pyplot import figure\n",
        "# Your code here\n",
        "\n",
        "figure(figsize=(15, 10))\n",
        "########################################################################\n",
        "plot_tree(dt_best, filled= True, feature_names= X.columns, fontsize= 12)\n",
        "########################################################################\n",
        "plt.show()"
      ]
    },
    {
      "cell_type": "markdown",
      "metadata": {},
      "source": [
        "## Random Forest Multivariate Regresson\n",
        "Create a Random forest regressor and fit it on the complete dataset.\n",
        "\n",
        "For simplicity use the max_depth found in the Decision tree regressor to perform a cross validation and find the best depth for this model."
      ]
    },
    {
      "cell_type": "code",
      "execution_count": 105,
      "metadata": {},
      "outputs": [
        {
          "name": "stdout",
          "output_type": "stream",
          "text": [
            "The optimal maximum depth for the trees in the random forest is 3\n"
          ]
        }
      ],
      "source": [
        "from sklearn.ensemble import RandomForestRegressor\n",
        "\n",
        "rfr = RandomForestRegressor(random_state= random_state)\n",
        "\n",
        "# params = {\"max_depth\": list(range(1, max_depth))}  as before\n",
        "gscv = GridSearchCV(rfr, param_grid= params, scoring= 'neg_mean_squared_error') # look for minimum squared error\n",
        "gscv.fit(Xtrain, Ytrain)\n",
        "\n",
        "rf_best = gscv.best_estimator_\n",
        "best_depth = rf_best.max_depth\n",
        "print(f\"The optimal maximum depth for the trees in the random forest is {best_depth}\")"
      ]
    },
    {
      "cell_type": "code",
      "execution_count": 106,
      "metadata": {},
      "outputs": [
        {
          "name": "stdout",
          "output_type": "stream",
          "text": [
            "Decision Tree Regression - RMSE = 3.6720025930535343\n"
          ]
        }
      ],
      "source": [
        "y_pred_rf = rf_best.predict(Xtest)\n",
        "\n",
        "rmse_rf = mean_squared_error(Ytest, y_pred_rf, squared= False)\n",
        "\n",
        "print(f\"Decision Tree Regression - RMSE = {rmse_rf}\")"
      ]
    },
    {
      "cell_type": "markdown",
      "metadata": {},
      "source": [
        "## Final observations\n",
        "### Linear regression\n",
        "The multivariate regression with all the predicting variables available with respect to the univariate regression has \n",
        "- lower RMSE \n",
        "- higher coefficient of determination \n",
        "- the p-value suggests the acceptance of both models\n",
        "### Decision Tree and Random Forest regression\n",
        "- Decistion Tree has an RMSE slightly higher than multivariate linear regression\n",
        "- Random Forest has an RMSE slightly lower than multivariate linear regression\n"
      ]
    },
    {
      "cell_type": "markdown",
      "metadata": {},
      "source": [
        "## Control questions\n",
        "1. observing the multi-variate experiment, what variable has the higher effect on the target?\n",
        "1. is there a variable having an almost negligible effect on the target?\n",
        "1. try to repeat the univariate experiment with the other two columns and comment the results"
      ]
    }
  ],
  "metadata": {
    "kernelspec": {
      "display_name": "Python 3.8.10 64-bit",
      "language": "python",
      "name": "python3"
    },
    "language_info": {
      "codemirror_mode": {
        "name": "ipython",
        "version": 3
      },
      "file_extension": ".py",
      "mimetype": "text/x-python",
      "name": "python",
      "nbconvert_exporter": "python",
      "pygments_lexer": "ipython3",
      "version": "3.8.10"
    },
    "vscode": {
      "interpreter": {
        "hash": "916dbcbb3f70747c44a77c7bcd40155683ae19c65e1c03b4aa3499c5328201f1"
      }
    }
  },
  "nbformat": 4,
  "nbformat_minor": 0
}
