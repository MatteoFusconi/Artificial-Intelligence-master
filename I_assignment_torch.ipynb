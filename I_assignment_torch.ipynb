{
  "cells": [
    {
      "cell_type": "markdown",
      "metadata": {
        "id": "view-in-github",
        "colab_type": "text"
      },
      "source": [
        "<a href=\"https://colab.research.google.com/github/MatteoFusconi/Artificial-Intelligence-master/blob/main/I_assignment_torch.ipynb\" target=\"_parent\"><img src=\"https://colab.research.google.com/assets/colab-badge.svg\" alt=\"Open In Colab\"/></a>"
      ]
    },
    {
      "cell_type": "markdown",
      "metadata": {
        "id": "XMnITABDVMmv"
      },
      "source": [
        "# **_Part-of Speech (POS) tagging_**\n",
        "\n",
        "**Authors**: Chiara Angileri, Matteo Fusconi, Niccolò Marzi, Shola Oshodi"
      ]
    },
    {
      "cell_type": "markdown",
      "metadata": {
        "id": "NtwkNtUw5zN7"
      },
      "source": [
        "#### valutare insieme se mettere:\n",
        "- word listing totali e check oov (non servono in caso si possono fare delle statistiche)\n",
        "- evaluate voc ? da mettere?\n",
        "- tags in categorical ?\n",
        "- pensare insieme se il calcolo di f1 è giusto"
      ]
    },
    {
      "cell_type": "markdown",
      "metadata": {
        "id": "qo7g0FD-VMmx"
      },
      "source": [
        "## 0. Importing libraries"
      ]
    },
    {
      "cell_type": "code",
      "execution_count": 72,
      "metadata": {
        "id": "7VRZnZTDVMmx"
      },
      "outputs": [],
      "source": [
        "import os\n",
        "\n",
        "import numpy as np\n",
        "import pandas as pd\n",
        "import matplotlib.pyplot as plt\n",
        "import pickle\n",
        "import random\n",
        "\n",
        "from sklearn.metrics import f1_score, confusion_matrix, ConfusionMatrixDisplay\n",
        "\n",
        "import torch\n",
        "from torch import nn\n",
        "import torch.nn.functional as F\n",
        "from torch.utils.data import Dataset, DataLoader\n",
        "from tqdm import tqdm\n",
        "\n",
        "import gensim.downloader as gloader\n",
        "\n",
        "from collections import OrderedDict\n",
        "from collections.abc import Callable\n",
        "from typing import Tuple\n",
        "\n",
        "from functools import reduce\n",
        "\n",
        "from keras.preprocessing.sequence import pad_sequences\n",
        "\n"
      ]
    },
    {
      "cell_type": "code",
      "execution_count": 2,
      "metadata": {
        "id": "aEfu0pWJ5zN-"
      },
      "outputs": [],
      "source": [
        "seed = 42\n",
        "#seed = 16\n",
        "#seed = 32\n",
        "\n",
        "\n",
        "def fix_random(seed):\n",
        "    \"\"\"Fix all the possible sources of randomness.\n",
        "    Args:\n",
        "        seed: the seed to use.\n",
        "    \"\"\"\n",
        "    np.random.seed(seed)\n",
        "    random.seed(seed)\n",
        "    torch.manual_seed(seed)\n",
        "    torch.cuda.manual_seed(seed)\n",
        "\n",
        "    torch.backends.cudnn.benchmark = False\n",
        "    torch.backends.cudnn.deterministic = True\n",
        "\n",
        "\n",
        "fix_random(seed)"
      ]
    },
    {
      "cell_type": "markdown",
      "metadata": {
        "id": "kzGv5IidVMmy"
      },
      "source": [
        "## 1. Corpus"
      ]
    },
    {
      "cell_type": "markdown",
      "metadata": {
        "id": "zkLWxAlcVMmy"
      },
      "source": [
        "* **Download** the corpus."
      ]
    },
    {
      "cell_type": "code",
      "execution_count": 3,
      "metadata": {
        "colab": {
          "base_uri": "https://localhost:8080/"
        },
        "id": "Af7GBOMpVMmz",
        "outputId": "5e154d5e-83c9-4ce8-ef4d-740102c27d57"
      },
      "outputs": [
        {
          "output_type": "stream",
          "name": "stdout",
          "text": [
            "Downloading and extracting dataset to : /content/data/dependency_treebank\n"
          ]
        }
      ],
      "source": [
        "from urllib.request import urlopen\n",
        "from io import BytesIO\n",
        "from zipfile import ZipFile\n",
        "\n",
        "data_folder = os.path.join(os.getcwd(), \"data\") # directory containing data\n",
        "\n",
        "def download_and_unzip_dataset():\n",
        "    \"\"\"\n",
        "        Downloads and unzips the dataset for the assignment\n",
        "    \"\"\"\n",
        "    dataset_folder = os.path.join(data_folder, \"dependency_treebank\")\n",
        "\n",
        "    url = \"https://raw.githubusercontent.com/nltk/nltk_data/gh-pages/packages/corpora/dependency_treebank.zip\"\n",
        "\n",
        "    if not os.path.exists(dataset_folder):\n",
        "        print('Downloading and extracting dataset to :', dataset_folder)\n",
        "        with urlopen(url) as response:\n",
        "            zipfile = ZipFile(BytesIO(response.read()))\n",
        "            zipfile.extractall(path=data_folder)\n",
        "    else :\n",
        "        print(\"The dataset has been already downloaded!\")\n",
        "\n",
        "download_and_unzip_dataset()"
      ]
    },
    {
      "cell_type": "markdown",
      "metadata": {
        "id": "G-SarOyLVMm0"
      },
      "source": [
        "* **Encode** the corpus into a pandas.DataFrame object.\n",
        "* **Split** it in training, validation, and test sets."
      ]
    },
    {
      "cell_type": "code",
      "execution_count": 5,
      "metadata": {
        "id": "lQYN0ORIVMm0"
      },
      "outputs": [],
      "source": [
        "TRAINING_SPLIT = (1, 101)\n",
        "VALIDATION_SPLIT = (101,151)\n",
        "TEST_SPLIT = (151,200)"
      ]
    },
    {
      "cell_type": "code",
      "execution_count": 6,
      "metadata": {
        "id": "Rev4gs5dVMm0"
      },
      "outputs": [],
      "source": [
        "def encode_corpus(data_folder, dataframe_name):\n",
        "    \"\"\"\n",
        "        Encodes the corpus in a dataframe\n",
        "    \"\"\"\n",
        "\n",
        "    dataset_folder = os.path.join(data_folder, dataframe_name)\n",
        "    dataframe_rows = []\n",
        "\n",
        "    for doc in sorted(os.listdir(dataset_folder)):\n",
        "        doc_num = int(doc[5:8])\n",
        "        doc_path = os.path.join(dataset_folder,doc)\n",
        "\n",
        "        with open(doc_path, mode='r', encoding='utf-8') as file:\n",
        "            df_document = pd.read_csv(file, sep='\\t', header=None, skip_blank_lines=False)\n",
        "            df_document.rename(columns={0: 'word', 1: 'tag'}, inplace=True)\n",
        "            df_document.drop(2, axis=1, inplace=True)\n",
        "\n",
        "            df_document[\"sentence_num\"] = df_document.isnull().all(axis=1).cumsum()\n",
        "\n",
        "            df_document.dropna(inplace=True)\n",
        "            df_document.reset_index(drop=True, inplace=True)\n",
        "\n",
        "            #generate sentence list in a document\n",
        "            df_list = [df_document.iloc[rows] for _, rows in df_document.groupby('sentence_num').groups.items()]\n",
        "            for n, d in enumerate(df_list) : #for each sentence create a row in the final dataframe\n",
        "                dataframe_row = {\n",
        "                    \"split\" : 'train' if doc_num < TRAINING_SPLIT[1] else ('val' if doc_num < VALIDATION_SPLIT[1] else 'test'),\n",
        "                    \"doc_id\" : doc_num,\n",
        "                    \"sentence_id\" : n,\n",
        "                    \"words\": np.array(d['word'].tolist()),\n",
        "                    \"tags\":  np.array(d['tag'].tolist()),\n",
        "                }\n",
        "                dataframe_rows.append(dataframe_row)\n",
        "\n",
        "    df = pd.DataFrame(dataframe_rows)\n",
        "\n",
        "    return df\n",
        "\n",
        "df = encode_corpus(data_folder, \"dependency_treebank\")"
      ]
    },
    {
      "cell_type": "code",
      "execution_count": 7,
      "metadata": {
        "colab": {
          "base_uri": "https://localhost:8080/",
          "height": 0
        },
        "id": "A43c65wxVMm1",
        "outputId": "7e7ab233-5f0a-4249-b368-8cabb6723d38"
      },
      "outputs": [
        {
          "output_type": "stream",
          "name": "stdout",
          "text": [
            "Number of documents in the training set:  100\n",
            "Number of documents in the validation set:  50\n",
            "Number of documents in the test set:  49\n"
          ]
        },
        {
          "output_type": "execute_result",
          "data": {
            "text/plain": [
              "   split  doc_id  sentence_id  \\\n",
              "0  train       1            0   \n",
              "1  train       1            1   \n",
              "2  train       2            0   \n",
              "3  train       3            0   \n",
              "4  train       3            1   \n",
              "5  train       3            2   \n",
              "6  train       3            3   \n",
              "7  train       3            4   \n",
              "8  train       3            5   \n",
              "9  train       3            6   \n",
              "\n",
              "                                               words  \\\n",
              "0  [Pierre, Vinken, ,, 61, years, old, ,, will, j...   \n",
              "1  [Mr., Vinken, is, chairman, of, Elsevier, N.V....   \n",
              "2  [Rudolph, Agnew, ,, 55, years, old, and, forme...   \n",
              "3  [A, form, of, asbestos, once, used, to, make, ...   \n",
              "4  [The, asbestos, fiber, ,, crocidolite, ,, is, ...   \n",
              "5  [Lorillard, Inc., ,, the, unit, of, New, York-...   \n",
              "6  [Although, preliminary, findings, were, report...   \n",
              "7  [A, Lorillard, spokewoman, said, ,, ``, This, ...   \n",
              "8  [We, 're, talking, about, years, ago, before, ...   \n",
              "9  [There, is, no, asbestos, in, our, products, n...   \n",
              "\n",
              "                                                tags  \n",
              "0  [NNP, NNP, ,, CD, NNS, JJ, ,, MD, VB, DT, NN, ...  \n",
              "1  [NNP, NNP, VBZ, NN, IN, NNP, NNP, ,, DT, NNP, ...  \n",
              "2  [NNP, NNP, ,, CD, NNS, JJ, CC, JJ, NN, IN, NNP...  \n",
              "3  [DT, NN, IN, NN, RB, VBN, TO, VB, NNP, NN, NNS...  \n",
              "4  [DT, NN, NN, ,, NN, ,, VBZ, RB, JJ, IN, PRP, V...  \n",
              "5  [NNP, NNP, ,, DT, NN, IN, JJ, JJ, NNP, NNP, WD...  \n",
              "6  [IN, JJ, NNS, VBD, VBN, RBR, IN, DT, NN, IN, ,...  \n",
              "7  [DT, NNP, NN, VBD, ,, ``, DT, VBZ, DT, JJ, NN, .]  \n",
              "8  [PRP, VBP, VBG, IN, NNS, IN, IN, NN, VBD, IN, ...  \n",
              "9        [EX, VBZ, DT, NN, IN, PRP$, NNS, RB, ., '']  "
            ],
            "text/html": [
              "\n",
              "  <div id=\"df-ea4ff8eb-d122-4a40-bacd-5f5db7c3992f\" class=\"colab-df-container\">\n",
              "    <div>\n",
              "<style scoped>\n",
              "    .dataframe tbody tr th:only-of-type {\n",
              "        vertical-align: middle;\n",
              "    }\n",
              "\n",
              "    .dataframe tbody tr th {\n",
              "        vertical-align: top;\n",
              "    }\n",
              "\n",
              "    .dataframe thead th {\n",
              "        text-align: right;\n",
              "    }\n",
              "</style>\n",
              "<table border=\"1\" class=\"dataframe\">\n",
              "  <thead>\n",
              "    <tr style=\"text-align: right;\">\n",
              "      <th></th>\n",
              "      <th>split</th>\n",
              "      <th>doc_id</th>\n",
              "      <th>sentence_id</th>\n",
              "      <th>words</th>\n",
              "      <th>tags</th>\n",
              "    </tr>\n",
              "  </thead>\n",
              "  <tbody>\n",
              "    <tr>\n",
              "      <th>0</th>\n",
              "      <td>train</td>\n",
              "      <td>1</td>\n",
              "      <td>0</td>\n",
              "      <td>[Pierre, Vinken, ,, 61, years, old, ,, will, j...</td>\n",
              "      <td>[NNP, NNP, ,, CD, NNS, JJ, ,, MD, VB, DT, NN, ...</td>\n",
              "    </tr>\n",
              "    <tr>\n",
              "      <th>1</th>\n",
              "      <td>train</td>\n",
              "      <td>1</td>\n",
              "      <td>1</td>\n",
              "      <td>[Mr., Vinken, is, chairman, of, Elsevier, N.V....</td>\n",
              "      <td>[NNP, NNP, VBZ, NN, IN, NNP, NNP, ,, DT, NNP, ...</td>\n",
              "    </tr>\n",
              "    <tr>\n",
              "      <th>2</th>\n",
              "      <td>train</td>\n",
              "      <td>2</td>\n",
              "      <td>0</td>\n",
              "      <td>[Rudolph, Agnew, ,, 55, years, old, and, forme...</td>\n",
              "      <td>[NNP, NNP, ,, CD, NNS, JJ, CC, JJ, NN, IN, NNP...</td>\n",
              "    </tr>\n",
              "    <tr>\n",
              "      <th>3</th>\n",
              "      <td>train</td>\n",
              "      <td>3</td>\n",
              "      <td>0</td>\n",
              "      <td>[A, form, of, asbestos, once, used, to, make, ...</td>\n",
              "      <td>[DT, NN, IN, NN, RB, VBN, TO, VB, NNP, NN, NNS...</td>\n",
              "    </tr>\n",
              "    <tr>\n",
              "      <th>4</th>\n",
              "      <td>train</td>\n",
              "      <td>3</td>\n",
              "      <td>1</td>\n",
              "      <td>[The, asbestos, fiber, ,, crocidolite, ,, is, ...</td>\n",
              "      <td>[DT, NN, NN, ,, NN, ,, VBZ, RB, JJ, IN, PRP, V...</td>\n",
              "    </tr>\n",
              "    <tr>\n",
              "      <th>5</th>\n",
              "      <td>train</td>\n",
              "      <td>3</td>\n",
              "      <td>2</td>\n",
              "      <td>[Lorillard, Inc., ,, the, unit, of, New, York-...</td>\n",
              "      <td>[NNP, NNP, ,, DT, NN, IN, JJ, JJ, NNP, NNP, WD...</td>\n",
              "    </tr>\n",
              "    <tr>\n",
              "      <th>6</th>\n",
              "      <td>train</td>\n",
              "      <td>3</td>\n",
              "      <td>3</td>\n",
              "      <td>[Although, preliminary, findings, were, report...</td>\n",
              "      <td>[IN, JJ, NNS, VBD, VBN, RBR, IN, DT, NN, IN, ,...</td>\n",
              "    </tr>\n",
              "    <tr>\n",
              "      <th>7</th>\n",
              "      <td>train</td>\n",
              "      <td>3</td>\n",
              "      <td>4</td>\n",
              "      <td>[A, Lorillard, spokewoman, said, ,, ``, This, ...</td>\n",
              "      <td>[DT, NNP, NN, VBD, ,, ``, DT, VBZ, DT, JJ, NN, .]</td>\n",
              "    </tr>\n",
              "    <tr>\n",
              "      <th>8</th>\n",
              "      <td>train</td>\n",
              "      <td>3</td>\n",
              "      <td>5</td>\n",
              "      <td>[We, 're, talking, about, years, ago, before, ...</td>\n",
              "      <td>[PRP, VBP, VBG, IN, NNS, IN, IN, NN, VBD, IN, ...</td>\n",
              "    </tr>\n",
              "    <tr>\n",
              "      <th>9</th>\n",
              "      <td>train</td>\n",
              "      <td>3</td>\n",
              "      <td>6</td>\n",
              "      <td>[There, is, no, asbestos, in, our, products, n...</td>\n",
              "      <td>[EX, VBZ, DT, NN, IN, PRP$, NNS, RB, ., '']</td>\n",
              "    </tr>\n",
              "  </tbody>\n",
              "</table>\n",
              "</div>\n",
              "    <div class=\"colab-df-buttons\">\n",
              "\n",
              "  <div class=\"colab-df-container\">\n",
              "    <button class=\"colab-df-convert\" onclick=\"convertToInteractive('df-ea4ff8eb-d122-4a40-bacd-5f5db7c3992f')\"\n",
              "            title=\"Convert this dataframe to an interactive table.\"\n",
              "            style=\"display:none;\">\n",
              "\n",
              "  <svg xmlns=\"http://www.w3.org/2000/svg\" height=\"24px\" viewBox=\"0 -960 960 960\">\n",
              "    <path d=\"M120-120v-720h720v720H120Zm60-500h600v-160H180v160Zm220 220h160v-160H400v160Zm0 220h160v-160H400v160ZM180-400h160v-160H180v160Zm440 0h160v-160H620v160ZM180-180h160v-160H180v160Zm440 0h160v-160H620v160Z\"/>\n",
              "  </svg>\n",
              "    </button>\n",
              "\n",
              "  <style>\n",
              "    .colab-df-container {\n",
              "      display:flex;\n",
              "      gap: 12px;\n",
              "    }\n",
              "\n",
              "    .colab-df-convert {\n",
              "      background-color: #E8F0FE;\n",
              "      border: none;\n",
              "      border-radius: 50%;\n",
              "      cursor: pointer;\n",
              "      display: none;\n",
              "      fill: #1967D2;\n",
              "      height: 32px;\n",
              "      padding: 0 0 0 0;\n",
              "      width: 32px;\n",
              "    }\n",
              "\n",
              "    .colab-df-convert:hover {\n",
              "      background-color: #E2EBFA;\n",
              "      box-shadow: 0px 1px 2px rgba(60, 64, 67, 0.3), 0px 1px 3px 1px rgba(60, 64, 67, 0.15);\n",
              "      fill: #174EA6;\n",
              "    }\n",
              "\n",
              "    .colab-df-buttons div {\n",
              "      margin-bottom: 4px;\n",
              "    }\n",
              "\n",
              "    [theme=dark] .colab-df-convert {\n",
              "      background-color: #3B4455;\n",
              "      fill: #D2E3FC;\n",
              "    }\n",
              "\n",
              "    [theme=dark] .colab-df-convert:hover {\n",
              "      background-color: #434B5C;\n",
              "      box-shadow: 0px 1px 3px 1px rgba(0, 0, 0, 0.15);\n",
              "      filter: drop-shadow(0px 1px 2px rgba(0, 0, 0, 0.3));\n",
              "      fill: #FFFFFF;\n",
              "    }\n",
              "  </style>\n",
              "\n",
              "    <script>\n",
              "      const buttonEl =\n",
              "        document.querySelector('#df-ea4ff8eb-d122-4a40-bacd-5f5db7c3992f button.colab-df-convert');\n",
              "      buttonEl.style.display =\n",
              "        google.colab.kernel.accessAllowed ? 'block' : 'none';\n",
              "\n",
              "      async function convertToInteractive(key) {\n",
              "        const element = document.querySelector('#df-ea4ff8eb-d122-4a40-bacd-5f5db7c3992f');\n",
              "        const dataTable =\n",
              "          await google.colab.kernel.invokeFunction('convertToInteractive',\n",
              "                                                    [key], {});\n",
              "        if (!dataTable) return;\n",
              "\n",
              "        const docLinkHtml = 'Like what you see? Visit the ' +\n",
              "          '<a target=\"_blank\" href=https://colab.research.google.com/notebooks/data_table.ipynb>data table notebook</a>'\n",
              "          + ' to learn more about interactive tables.';\n",
              "        element.innerHTML = '';\n",
              "        dataTable['output_type'] = 'display_data';\n",
              "        await google.colab.output.renderOutput(dataTable, element);\n",
              "        const docLink = document.createElement('div');\n",
              "        docLink.innerHTML = docLinkHtml;\n",
              "        element.appendChild(docLink);\n",
              "      }\n",
              "    </script>\n",
              "  </div>\n",
              "\n",
              "\n",
              "<div id=\"df-f2686d98-4355-44e9-a5c7-941eee8836c2\">\n",
              "  <button class=\"colab-df-quickchart\" onclick=\"quickchart('df-f2686d98-4355-44e9-a5c7-941eee8836c2')\"\n",
              "            title=\"Suggest charts\"\n",
              "            style=\"display:none;\">\n",
              "\n",
              "<svg xmlns=\"http://www.w3.org/2000/svg\" height=\"24px\"viewBox=\"0 0 24 24\"\n",
              "     width=\"24px\">\n",
              "    <g>\n",
              "        <path d=\"M19 3H5c-1.1 0-2 .9-2 2v14c0 1.1.9 2 2 2h14c1.1 0 2-.9 2-2V5c0-1.1-.9-2-2-2zM9 17H7v-7h2v7zm4 0h-2V7h2v10zm4 0h-2v-4h2v4z\"/>\n",
              "    </g>\n",
              "</svg>\n",
              "  </button>\n",
              "\n",
              "<style>\n",
              "  .colab-df-quickchart {\n",
              "      --bg-color: #E8F0FE;\n",
              "      --fill-color: #1967D2;\n",
              "      --hover-bg-color: #E2EBFA;\n",
              "      --hover-fill-color: #174EA6;\n",
              "      --disabled-fill-color: #AAA;\n",
              "      --disabled-bg-color: #DDD;\n",
              "  }\n",
              "\n",
              "  [theme=dark] .colab-df-quickchart {\n",
              "      --bg-color: #3B4455;\n",
              "      --fill-color: #D2E3FC;\n",
              "      --hover-bg-color: #434B5C;\n",
              "      --hover-fill-color: #FFFFFF;\n",
              "      --disabled-bg-color: #3B4455;\n",
              "      --disabled-fill-color: #666;\n",
              "  }\n",
              "\n",
              "  .colab-df-quickchart {\n",
              "    background-color: var(--bg-color);\n",
              "    border: none;\n",
              "    border-radius: 50%;\n",
              "    cursor: pointer;\n",
              "    display: none;\n",
              "    fill: var(--fill-color);\n",
              "    height: 32px;\n",
              "    padding: 0;\n",
              "    width: 32px;\n",
              "  }\n",
              "\n",
              "  .colab-df-quickchart:hover {\n",
              "    background-color: var(--hover-bg-color);\n",
              "    box-shadow: 0 1px 2px rgba(60, 64, 67, 0.3), 0 1px 3px 1px rgba(60, 64, 67, 0.15);\n",
              "    fill: var(--button-hover-fill-color);\n",
              "  }\n",
              "\n",
              "  .colab-df-quickchart-complete:disabled,\n",
              "  .colab-df-quickchart-complete:disabled:hover {\n",
              "    background-color: var(--disabled-bg-color);\n",
              "    fill: var(--disabled-fill-color);\n",
              "    box-shadow: none;\n",
              "  }\n",
              "\n",
              "  .colab-df-spinner {\n",
              "    border: 2px solid var(--fill-color);\n",
              "    border-color: transparent;\n",
              "    border-bottom-color: var(--fill-color);\n",
              "    animation:\n",
              "      spin 1s steps(1) infinite;\n",
              "  }\n",
              "\n",
              "  @keyframes spin {\n",
              "    0% {\n",
              "      border-color: transparent;\n",
              "      border-bottom-color: var(--fill-color);\n",
              "      border-left-color: var(--fill-color);\n",
              "    }\n",
              "    20% {\n",
              "      border-color: transparent;\n",
              "      border-left-color: var(--fill-color);\n",
              "      border-top-color: var(--fill-color);\n",
              "    }\n",
              "    30% {\n",
              "      border-color: transparent;\n",
              "      border-left-color: var(--fill-color);\n",
              "      border-top-color: var(--fill-color);\n",
              "      border-right-color: var(--fill-color);\n",
              "    }\n",
              "    40% {\n",
              "      border-color: transparent;\n",
              "      border-right-color: var(--fill-color);\n",
              "      border-top-color: var(--fill-color);\n",
              "    }\n",
              "    60% {\n",
              "      border-color: transparent;\n",
              "      border-right-color: var(--fill-color);\n",
              "    }\n",
              "    80% {\n",
              "      border-color: transparent;\n",
              "      border-right-color: var(--fill-color);\n",
              "      border-bottom-color: var(--fill-color);\n",
              "    }\n",
              "    90% {\n",
              "      border-color: transparent;\n",
              "      border-bottom-color: var(--fill-color);\n",
              "    }\n",
              "  }\n",
              "</style>\n",
              "\n",
              "  <script>\n",
              "    async function quickchart(key) {\n",
              "      const quickchartButtonEl =\n",
              "        document.querySelector('#' + key + ' button');\n",
              "      quickchartButtonEl.disabled = true;  // To prevent multiple clicks.\n",
              "      quickchartButtonEl.classList.add('colab-df-spinner');\n",
              "      try {\n",
              "        const charts = await google.colab.kernel.invokeFunction(\n",
              "            'suggestCharts', [key], {});\n",
              "      } catch (error) {\n",
              "        console.error('Error during call to suggestCharts:', error);\n",
              "      }\n",
              "      quickchartButtonEl.classList.remove('colab-df-spinner');\n",
              "      quickchartButtonEl.classList.add('colab-df-quickchart-complete');\n",
              "    }\n",
              "    (() => {\n",
              "      let quickchartButtonEl =\n",
              "        document.querySelector('#df-f2686d98-4355-44e9-a5c7-941eee8836c2 button');\n",
              "      quickchartButtonEl.style.display =\n",
              "        google.colab.kernel.accessAllowed ? 'block' : 'none';\n",
              "    })();\n",
              "  </script>\n",
              "</div>\n",
              "    </div>\n",
              "  </div>\n"
            ]
          },
          "metadata": {},
          "execution_count": 7
        }
      ],
      "source": [
        "# count the number of doc_id in the training set\n",
        "print('Number of documents in the training set: ', df[df['split'] == 'train']['doc_id'].nunique())\n",
        "\n",
        "# count the number of doc_id in the validation set\n",
        "print('Number of documents in the validation set: ', df[df['split'] == 'val']['doc_id'].nunique())\n",
        "\n",
        "# count the number of doc_id in the test set\n",
        "print('Number of documents in the test set: ', df[df['split'] == 'test']['doc_id'].nunique())\n",
        "\n",
        "# Checking the dataframe\n",
        "df.head(10)"
      ]
    },
    {
      "cell_type": "markdown",
      "metadata": {
        "id": "t8fN3JqpVMm1"
      },
      "source": [
        "## 2. Text encoding"
      ]
    },
    {
      "cell_type": "markdown",
      "metadata": {
        "id": "SSIB1yeMVMm1"
      },
      "source": [
        "* **Text preprocessing**: *text to lower* -> casing usually doesn't affect our task, but in some scenarios, such as part-of-speech tagging, it is crucial.\n",
        "\n"
      ]
    },
    {
      "cell_type": "code",
      "execution_count": 8,
      "metadata": {
        "id": "-KfrcPdsVMm1"
      },
      "outputs": [],
      "source": [
        "def lower(text):\n",
        "    \"\"\"\n",
        "        Transforms given text to lower case.\n",
        "    \"\"\"\n",
        "    lower_text = []\n",
        "\n",
        "    for word in text:\n",
        "        if type(word) == np.str_:\n",
        "            lower_text.append(np.char.lower(word))\n",
        "        else:\n",
        "            lower_text.append(word)\n",
        "\n",
        "    return lower_text\n",
        "\n",
        "def text_preprocessing(text):\n",
        "    \"\"\"\n",
        "        Applies a lower case transformation to the given text.\n",
        "    \"\"\"\n",
        "    return reduce(lambda txt, f: f(txt), [lower], text)"
      ]
    },
    {
      "cell_type": "code",
      "execution_count": 9,
      "metadata": {
        "colab": {
          "base_uri": "https://localhost:8080/",
          "height": 399
        },
        "id": "I2ul7u_jVMm2",
        "outputId": "06ec645e-7675-44f8-ff4f-2e476964195d"
      },
      "outputs": [
        {
          "output_type": "stream",
          "name": "stdout",
          "text": [
            "Pre-processing text...\n",
            "Pre-processing completed!\n"
          ]
        },
        {
          "output_type": "execute_result",
          "data": {
            "text/plain": [
              "   split  doc_id  sentence_id  \\\n",
              "0  train       1            0   \n",
              "1  train       1            1   \n",
              "2  train       2            0   \n",
              "3  train       3            0   \n",
              "4  train       3            1   \n",
              "5  train       3            2   \n",
              "6  train       3            3   \n",
              "7  train       3            4   \n",
              "8  train       3            5   \n",
              "9  train       3            6   \n",
              "\n",
              "                                               words  \\\n",
              "0  [pierre, vinken, ,, 61, years, old, ,, will, j...   \n",
              "1  [mr., vinken, is, chairman, of, elsevier, n.v....   \n",
              "2  [rudolph, agnew, ,, 55, years, old, and, forme...   \n",
              "3  [a, form, of, asbestos, once, used, to, make, ...   \n",
              "4  [the, asbestos, fiber, ,, crocidolite, ,, is, ...   \n",
              "5  [lorillard, inc., ,, the, unit, of, new, york-...   \n",
              "6  [although, preliminary, findings, were, report...   \n",
              "7  [a, lorillard, spokewoman, said, ,, ``, this, ...   \n",
              "8  [we, 're, talking, about, years, ago, before, ...   \n",
              "9  [there, is, no, asbestos, in, our, products, n...   \n",
              "\n",
              "                                                tags  \n",
              "0  [NNP, NNP, ,, CD, NNS, JJ, ,, MD, VB, DT, NN, ...  \n",
              "1  [NNP, NNP, VBZ, NN, IN, NNP, NNP, ,, DT, NNP, ...  \n",
              "2  [NNP, NNP, ,, CD, NNS, JJ, CC, JJ, NN, IN, NNP...  \n",
              "3  [DT, NN, IN, NN, RB, VBN, TO, VB, NNP, NN, NNS...  \n",
              "4  [DT, NN, NN, ,, NN, ,, VBZ, RB, JJ, IN, PRP, V...  \n",
              "5  [NNP, NNP, ,, DT, NN, IN, JJ, JJ, NNP, NNP, WD...  \n",
              "6  [IN, JJ, NNS, VBD, VBN, RBR, IN, DT, NN, IN, ,...  \n",
              "7  [DT, NNP, NN, VBD, ,, ``, DT, VBZ, DT, JJ, NN, .]  \n",
              "8  [PRP, VBP, VBG, IN, NNS, IN, IN, NN, VBD, IN, ...  \n",
              "9        [EX, VBZ, DT, NN, IN, PRP$, NNS, RB, ., '']  "
            ],
            "text/html": [
              "\n",
              "  <div id=\"df-b458b9f4-6716-4f08-b6aa-f47fd5421215\" class=\"colab-df-container\">\n",
              "    <div>\n",
              "<style scoped>\n",
              "    .dataframe tbody tr th:only-of-type {\n",
              "        vertical-align: middle;\n",
              "    }\n",
              "\n",
              "    .dataframe tbody tr th {\n",
              "        vertical-align: top;\n",
              "    }\n",
              "\n",
              "    .dataframe thead th {\n",
              "        text-align: right;\n",
              "    }\n",
              "</style>\n",
              "<table border=\"1\" class=\"dataframe\">\n",
              "  <thead>\n",
              "    <tr style=\"text-align: right;\">\n",
              "      <th></th>\n",
              "      <th>split</th>\n",
              "      <th>doc_id</th>\n",
              "      <th>sentence_id</th>\n",
              "      <th>words</th>\n",
              "      <th>tags</th>\n",
              "    </tr>\n",
              "  </thead>\n",
              "  <tbody>\n",
              "    <tr>\n",
              "      <th>0</th>\n",
              "      <td>train</td>\n",
              "      <td>1</td>\n",
              "      <td>0</td>\n",
              "      <td>[pierre, vinken, ,, 61, years, old, ,, will, j...</td>\n",
              "      <td>[NNP, NNP, ,, CD, NNS, JJ, ,, MD, VB, DT, NN, ...</td>\n",
              "    </tr>\n",
              "    <tr>\n",
              "      <th>1</th>\n",
              "      <td>train</td>\n",
              "      <td>1</td>\n",
              "      <td>1</td>\n",
              "      <td>[mr., vinken, is, chairman, of, elsevier, n.v....</td>\n",
              "      <td>[NNP, NNP, VBZ, NN, IN, NNP, NNP, ,, DT, NNP, ...</td>\n",
              "    </tr>\n",
              "    <tr>\n",
              "      <th>2</th>\n",
              "      <td>train</td>\n",
              "      <td>2</td>\n",
              "      <td>0</td>\n",
              "      <td>[rudolph, agnew, ,, 55, years, old, and, forme...</td>\n",
              "      <td>[NNP, NNP, ,, CD, NNS, JJ, CC, JJ, NN, IN, NNP...</td>\n",
              "    </tr>\n",
              "    <tr>\n",
              "      <th>3</th>\n",
              "      <td>train</td>\n",
              "      <td>3</td>\n",
              "      <td>0</td>\n",
              "      <td>[a, form, of, asbestos, once, used, to, make, ...</td>\n",
              "      <td>[DT, NN, IN, NN, RB, VBN, TO, VB, NNP, NN, NNS...</td>\n",
              "    </tr>\n",
              "    <tr>\n",
              "      <th>4</th>\n",
              "      <td>train</td>\n",
              "      <td>3</td>\n",
              "      <td>1</td>\n",
              "      <td>[the, asbestos, fiber, ,, crocidolite, ,, is, ...</td>\n",
              "      <td>[DT, NN, NN, ,, NN, ,, VBZ, RB, JJ, IN, PRP, V...</td>\n",
              "    </tr>\n",
              "    <tr>\n",
              "      <th>5</th>\n",
              "      <td>train</td>\n",
              "      <td>3</td>\n",
              "      <td>2</td>\n",
              "      <td>[lorillard, inc., ,, the, unit, of, new, york-...</td>\n",
              "      <td>[NNP, NNP, ,, DT, NN, IN, JJ, JJ, NNP, NNP, WD...</td>\n",
              "    </tr>\n",
              "    <tr>\n",
              "      <th>6</th>\n",
              "      <td>train</td>\n",
              "      <td>3</td>\n",
              "      <td>3</td>\n",
              "      <td>[although, preliminary, findings, were, report...</td>\n",
              "      <td>[IN, JJ, NNS, VBD, VBN, RBR, IN, DT, NN, IN, ,...</td>\n",
              "    </tr>\n",
              "    <tr>\n",
              "      <th>7</th>\n",
              "      <td>train</td>\n",
              "      <td>3</td>\n",
              "      <td>4</td>\n",
              "      <td>[a, lorillard, spokewoman, said, ,, ``, this, ...</td>\n",
              "      <td>[DT, NNP, NN, VBD, ,, ``, DT, VBZ, DT, JJ, NN, .]</td>\n",
              "    </tr>\n",
              "    <tr>\n",
              "      <th>8</th>\n",
              "      <td>train</td>\n",
              "      <td>3</td>\n",
              "      <td>5</td>\n",
              "      <td>[we, 're, talking, about, years, ago, before, ...</td>\n",
              "      <td>[PRP, VBP, VBG, IN, NNS, IN, IN, NN, VBD, IN, ...</td>\n",
              "    </tr>\n",
              "    <tr>\n",
              "      <th>9</th>\n",
              "      <td>train</td>\n",
              "      <td>3</td>\n",
              "      <td>6</td>\n",
              "      <td>[there, is, no, asbestos, in, our, products, n...</td>\n",
              "      <td>[EX, VBZ, DT, NN, IN, PRP$, NNS, RB, ., '']</td>\n",
              "    </tr>\n",
              "  </tbody>\n",
              "</table>\n",
              "</div>\n",
              "    <div class=\"colab-df-buttons\">\n",
              "\n",
              "  <div class=\"colab-df-container\">\n",
              "    <button class=\"colab-df-convert\" onclick=\"convertToInteractive('df-b458b9f4-6716-4f08-b6aa-f47fd5421215')\"\n",
              "            title=\"Convert this dataframe to an interactive table.\"\n",
              "            style=\"display:none;\">\n",
              "\n",
              "  <svg xmlns=\"http://www.w3.org/2000/svg\" height=\"24px\" viewBox=\"0 -960 960 960\">\n",
              "    <path d=\"M120-120v-720h720v720H120Zm60-500h600v-160H180v160Zm220 220h160v-160H400v160Zm0 220h160v-160H400v160ZM180-400h160v-160H180v160Zm440 0h160v-160H620v160ZM180-180h160v-160H180v160Zm440 0h160v-160H620v160Z\"/>\n",
              "  </svg>\n",
              "    </button>\n",
              "\n",
              "  <style>\n",
              "    .colab-df-container {\n",
              "      display:flex;\n",
              "      gap: 12px;\n",
              "    }\n",
              "\n",
              "    .colab-df-convert {\n",
              "      background-color: #E8F0FE;\n",
              "      border: none;\n",
              "      border-radius: 50%;\n",
              "      cursor: pointer;\n",
              "      display: none;\n",
              "      fill: #1967D2;\n",
              "      height: 32px;\n",
              "      padding: 0 0 0 0;\n",
              "      width: 32px;\n",
              "    }\n",
              "\n",
              "    .colab-df-convert:hover {\n",
              "      background-color: #E2EBFA;\n",
              "      box-shadow: 0px 1px 2px rgba(60, 64, 67, 0.3), 0px 1px 3px 1px rgba(60, 64, 67, 0.15);\n",
              "      fill: #174EA6;\n",
              "    }\n",
              "\n",
              "    .colab-df-buttons div {\n",
              "      margin-bottom: 4px;\n",
              "    }\n",
              "\n",
              "    [theme=dark] .colab-df-convert {\n",
              "      background-color: #3B4455;\n",
              "      fill: #D2E3FC;\n",
              "    }\n",
              "\n",
              "    [theme=dark] .colab-df-convert:hover {\n",
              "      background-color: #434B5C;\n",
              "      box-shadow: 0px 1px 3px 1px rgba(0, 0, 0, 0.15);\n",
              "      filter: drop-shadow(0px 1px 2px rgba(0, 0, 0, 0.3));\n",
              "      fill: #FFFFFF;\n",
              "    }\n",
              "  </style>\n",
              "\n",
              "    <script>\n",
              "      const buttonEl =\n",
              "        document.querySelector('#df-b458b9f4-6716-4f08-b6aa-f47fd5421215 button.colab-df-convert');\n",
              "      buttonEl.style.display =\n",
              "        google.colab.kernel.accessAllowed ? 'block' : 'none';\n",
              "\n",
              "      async function convertToInteractive(key) {\n",
              "        const element = document.querySelector('#df-b458b9f4-6716-4f08-b6aa-f47fd5421215');\n",
              "        const dataTable =\n",
              "          await google.colab.kernel.invokeFunction('convertToInteractive',\n",
              "                                                    [key], {});\n",
              "        if (!dataTable) return;\n",
              "\n",
              "        const docLinkHtml = 'Like what you see? Visit the ' +\n",
              "          '<a target=\"_blank\" href=https://colab.research.google.com/notebooks/data_table.ipynb>data table notebook</a>'\n",
              "          + ' to learn more about interactive tables.';\n",
              "        element.innerHTML = '';\n",
              "        dataTable['output_type'] = 'display_data';\n",
              "        await google.colab.output.renderOutput(dataTable, element);\n",
              "        const docLink = document.createElement('div');\n",
              "        docLink.innerHTML = docLinkHtml;\n",
              "        element.appendChild(docLink);\n",
              "      }\n",
              "    </script>\n",
              "  </div>\n",
              "\n",
              "\n",
              "<div id=\"df-d8d1b104-6762-4f5a-81e7-fb4dde5912b1\">\n",
              "  <button class=\"colab-df-quickchart\" onclick=\"quickchart('df-d8d1b104-6762-4f5a-81e7-fb4dde5912b1')\"\n",
              "            title=\"Suggest charts\"\n",
              "            style=\"display:none;\">\n",
              "\n",
              "<svg xmlns=\"http://www.w3.org/2000/svg\" height=\"24px\"viewBox=\"0 0 24 24\"\n",
              "     width=\"24px\">\n",
              "    <g>\n",
              "        <path d=\"M19 3H5c-1.1 0-2 .9-2 2v14c0 1.1.9 2 2 2h14c1.1 0 2-.9 2-2V5c0-1.1-.9-2-2-2zM9 17H7v-7h2v7zm4 0h-2V7h2v10zm4 0h-2v-4h2v4z\"/>\n",
              "    </g>\n",
              "</svg>\n",
              "  </button>\n",
              "\n",
              "<style>\n",
              "  .colab-df-quickchart {\n",
              "      --bg-color: #E8F0FE;\n",
              "      --fill-color: #1967D2;\n",
              "      --hover-bg-color: #E2EBFA;\n",
              "      --hover-fill-color: #174EA6;\n",
              "      --disabled-fill-color: #AAA;\n",
              "      --disabled-bg-color: #DDD;\n",
              "  }\n",
              "\n",
              "  [theme=dark] .colab-df-quickchart {\n",
              "      --bg-color: #3B4455;\n",
              "      --fill-color: #D2E3FC;\n",
              "      --hover-bg-color: #434B5C;\n",
              "      --hover-fill-color: #FFFFFF;\n",
              "      --disabled-bg-color: #3B4455;\n",
              "      --disabled-fill-color: #666;\n",
              "  }\n",
              "\n",
              "  .colab-df-quickchart {\n",
              "    background-color: var(--bg-color);\n",
              "    border: none;\n",
              "    border-radius: 50%;\n",
              "    cursor: pointer;\n",
              "    display: none;\n",
              "    fill: var(--fill-color);\n",
              "    height: 32px;\n",
              "    padding: 0;\n",
              "    width: 32px;\n",
              "  }\n",
              "\n",
              "  .colab-df-quickchart:hover {\n",
              "    background-color: var(--hover-bg-color);\n",
              "    box-shadow: 0 1px 2px rgba(60, 64, 67, 0.3), 0 1px 3px 1px rgba(60, 64, 67, 0.15);\n",
              "    fill: var(--button-hover-fill-color);\n",
              "  }\n",
              "\n",
              "  .colab-df-quickchart-complete:disabled,\n",
              "  .colab-df-quickchart-complete:disabled:hover {\n",
              "    background-color: var(--disabled-bg-color);\n",
              "    fill: var(--disabled-fill-color);\n",
              "    box-shadow: none;\n",
              "  }\n",
              "\n",
              "  .colab-df-spinner {\n",
              "    border: 2px solid var(--fill-color);\n",
              "    border-color: transparent;\n",
              "    border-bottom-color: var(--fill-color);\n",
              "    animation:\n",
              "      spin 1s steps(1) infinite;\n",
              "  }\n",
              "\n",
              "  @keyframes spin {\n",
              "    0% {\n",
              "      border-color: transparent;\n",
              "      border-bottom-color: var(--fill-color);\n",
              "      border-left-color: var(--fill-color);\n",
              "    }\n",
              "    20% {\n",
              "      border-color: transparent;\n",
              "      border-left-color: var(--fill-color);\n",
              "      border-top-color: var(--fill-color);\n",
              "    }\n",
              "    30% {\n",
              "      border-color: transparent;\n",
              "      border-left-color: var(--fill-color);\n",
              "      border-top-color: var(--fill-color);\n",
              "      border-right-color: var(--fill-color);\n",
              "    }\n",
              "    40% {\n",
              "      border-color: transparent;\n",
              "      border-right-color: var(--fill-color);\n",
              "      border-top-color: var(--fill-color);\n",
              "    }\n",
              "    60% {\n",
              "      border-color: transparent;\n",
              "      border-right-color: var(--fill-color);\n",
              "    }\n",
              "    80% {\n",
              "      border-color: transparent;\n",
              "      border-right-color: var(--fill-color);\n",
              "      border-bottom-color: var(--fill-color);\n",
              "    }\n",
              "    90% {\n",
              "      border-color: transparent;\n",
              "      border-bottom-color: var(--fill-color);\n",
              "    }\n",
              "  }\n",
              "</style>\n",
              "\n",
              "  <script>\n",
              "    async function quickchart(key) {\n",
              "      const quickchartButtonEl =\n",
              "        document.querySelector('#' + key + ' button');\n",
              "      quickchartButtonEl.disabled = true;  // To prevent multiple clicks.\n",
              "      quickchartButtonEl.classList.add('colab-df-spinner');\n",
              "      try {\n",
              "        const charts = await google.colab.kernel.invokeFunction(\n",
              "            'suggestCharts', [key], {});\n",
              "      } catch (error) {\n",
              "        console.error('Error during call to suggestCharts:', error);\n",
              "      }\n",
              "      quickchartButtonEl.classList.remove('colab-df-spinner');\n",
              "      quickchartButtonEl.classList.add('colab-df-quickchart-complete');\n",
              "    }\n",
              "    (() => {\n",
              "      let quickchartButtonEl =\n",
              "        document.querySelector('#df-d8d1b104-6762-4f5a-81e7-fb4dde5912b1 button');\n",
              "      quickchartButtonEl.style.display =\n",
              "        google.colab.kernel.accessAllowed ? 'block' : 'none';\n",
              "    })();\n",
              "  </script>\n",
              "</div>\n",
              "    </div>\n",
              "  </div>\n"
            ]
          },
          "metadata": {},
          "execution_count": 9
        }
      ],
      "source": [
        "print('Pre-processing text...')\n",
        "\n",
        "df['words'] = df['words'].apply(lambda txt: text_preprocessing(txt))\n",
        "\n",
        "print(\"Pre-processing completed!\")\n",
        "\n",
        "df.head(10)"
      ]
    },
    {
      "cell_type": "markdown",
      "metadata": {
        "id": "x46ML2uPVMm2"
      },
      "source": [
        "* **Building vocabulary**"
      ]
    },
    {
      "cell_type": "code",
      "execution_count": 10,
      "metadata": {
        "id": "GW6AE0GXVMm2"
      },
      "outputs": [],
      "source": [
        "def build_vocabulary(df, vocabulary_path = None):\n",
        "    \"\"\"\n",
        "    Given a dataset, builds the corresponding word vocabulary.\n",
        "\n",
        "    :param df: dataset from which we want to build the word vocabulary (pandas.DataFrame)\n",
        "    :param vocabulary_path: path to the vocabulary pickle file (string)\n",
        "\n",
        "    :return:\n",
        "        - word vocabulary: vocabulary index to word\n",
        "        - inverse word vocabulary: word to vocabulary index\n",
        "        - word listing: set of unique terms that build up the vocabulary\n",
        "        - tag vocabulary: vocabulary index to tag\n",
        "        - inverse tag vocabulary: tag to vocabulary index\n",
        "        - tag listing: set of unique tags that build up the vocabulary\n",
        "    \"\"\"\n",
        "    idx_to_word = OrderedDict()\n",
        "    word_to_idx = OrderedDict()\n",
        "\n",
        "    idx_to_tag = OrderedDict()\n",
        "    tag_to_idx = OrderedDict()\n",
        "\n",
        "    # For padding purposes\n",
        "    word_to_idx['<pad>'] = 0\n",
        "    idx_to_word[0] = '<pad>'\n",
        "\n",
        "    # For dealing with unknown words\n",
        "    word_to_idx['<unk>'] = 1\n",
        "    idx_to_word[1] = '<unk>'\n",
        "\n",
        "    curr_idx = 2\n",
        "    for sentence in tqdm(df.words.values):\n",
        "        for t in sentence:\n",
        "            t = str(t)\n",
        "            if t not in word_to_idx:\n",
        "                word_to_idx[t] = curr_idx\n",
        "                idx_to_word[curr_idx] = t\n",
        "                curr_idx += 1\n",
        "\n",
        "    word_listing = list(idx_to_word.values())\n",
        "\n",
        "    # For padding purposes\n",
        "    tag_to_idx['<pad>'] = 0\n",
        "    idx_to_tag[0] = '<pad>'\n",
        "\n",
        "    # For dealing with unknown tags\n",
        "    tag_to_idx['<unk>'] = 1\n",
        "    idx_to_tag[1] = '<unk>'\n",
        "\n",
        "    curr_idx = 2\n",
        "    for tag in tqdm(df.tags.values):\n",
        "        for t in tag:\n",
        "            if t not in tag_to_idx:\n",
        "                tag_to_idx[t] = curr_idx\n",
        "                idx_to_tag[curr_idx] = t\n",
        "                curr_idx += 1\n",
        "\n",
        "    tag_listing = list(idx_to_tag.values())\n",
        "\n",
        "    pickle_files = [idx_to_word, word_to_idx, word_listing, idx_to_tag, tag_to_idx, tag_listing]\n",
        "\n",
        "    if vocabulary_path is not None:\n",
        "        # Save pickle_files to disk\n",
        "        with open(vocabulary_path, 'wb') as f:\n",
        "            pickle.dump(pickle_files, f)\n",
        "\n",
        "    return idx_to_word, word_to_idx, word_listing, idx_to_tag, tag_to_idx, tag_listing"
      ]
    },
    {
      "cell_type": "code",
      "execution_count": 11,
      "metadata": {
        "id": "PNQasRiFVMm2"
      },
      "outputs": [],
      "source": [
        "def load_vocab(df, vocab_path):\n",
        "    \"\"\"\n",
        "        Loads the vocabulary from the given path.\n",
        "    \"\"\"\n",
        "    if os.path.exists(vocab_path):\n",
        "        print(\"Loading vocabulary...\")\n",
        "        with open(vocab_path, 'rb') as f:\n",
        "            idx_to_word, word_to_idx, word_listing, idx_to_tag, tag_to_idx, tag_listing = pickle.load(f)\n",
        "        print(\"Vocabulary loaded!\")\n",
        "    else:\n",
        "        print(\"Building vocabulary...\")\n",
        "        idx_to_word, word_to_idx, word_listing, idx_to_tag, tag_to_idx, tag_listing = build_vocabulary(df, vocab_path)\n",
        "        print(\"\\nVocabulary built!\")\n",
        "\n",
        "    return idx_to_word, word_to_idx, word_listing, idx_to_tag, tag_to_idx, tag_listing"
      ]
    },
    {
      "cell_type": "code",
      "execution_count": 12,
      "metadata": {
        "colab": {
          "base_uri": "https://localhost:8080/"
        },
        "id": "zVdhrj5-VMm3",
        "outputId": "513864c2-9c62-40cb-f711-ebb0977fe89a"
      },
      "outputs": [
        {
          "output_type": "stream",
          "name": "stdout",
          "text": [
            "Building vocabulary...\n"
          ]
        },
        {
          "output_type": "stream",
          "name": "stderr",
          "text": [
            "100%|██████████| 1963/1963 [00:00<00:00, 21249.01it/s]\n",
            "100%|██████████| 1963/1963 [00:00<00:00, 104435.97it/s]"
          ]
        },
        {
          "output_type": "stream",
          "name": "stdout",
          "text": [
            "\n",
            "Vocabulary built!\n"
          ]
        },
        {
          "output_type": "stream",
          "name": "stderr",
          "text": [
            "\n"
          ]
        }
      ],
      "source": [
        "# Get the vocabulary\n",
        "df_train = df[df['split'] == 'train']\n",
        "\n",
        "folder = os.getcwd()\n",
        "vocabulary_path = os.path.join(folder, \"vocabulary_train.pkl\")\n",
        "\n",
        "idx2word, word2idx, word_listing, idx2tag, tag2idx, tag_listing = load_vocab(df_train, vocabulary_path)"
      ]
    },
    {
      "cell_type": "code",
      "execution_count": 13,
      "metadata": {
        "colab": {
          "base_uri": "https://localhost:8080/"
        },
        "id": "hg_wIKwKVMm3",
        "outputId": "1fa889cc-e88a-490d-926a-498728373671"
      },
      "outputs": [
        {
          "output_type": "stream",
          "name": "stdout",
          "text": [
            "Vocabulary size:  7406\n",
            "['<pad>', '<unk>', 'pierre', 'vinken', ',', '61', 'years', 'old', 'will', 'join', 'the', 'board', 'as', 'a', 'nonexecutive', 'director', 'nov.', '29', '.', 'mr.']\n",
            "Number of unique tags:  47\n",
            "['<pad>', '<unk>', 'NNP', ',', 'CD', 'NNS', 'JJ', 'MD', 'VB', 'DT', 'NN', 'IN', '.', 'VBZ', 'VBG', 'CC', 'VBD', 'VBN', 'RB', 'TO']\n"
          ]
        }
      ],
      "source": [
        "print('Vocabulary size: ', len(word_listing))\n",
        "print(word_listing[:20])\n",
        "\n",
        "print('Number of unique tags: ', len(tag_listing))\n",
        "print(tag_listing[:20])"
      ]
    },
    {
      "cell_type": "markdown",
      "metadata": {
        "id": "-5lL70xxVMm4"
      },
      "source": [
        "* Embed words using **GloVe embeddings**."
      ]
    },
    {
      "cell_type": "code",
      "execution_count": 14,
      "metadata": {
        "id": "Tg8kU5xqVMm4",
        "outputId": "a57c670f-b509-4c16-9701-f634d3d40f40",
        "colab": {
          "base_uri": "https://localhost:8080/"
        }
      },
      "outputs": [
        {
          "output_type": "stream",
          "name": "stdout",
          "text": [
            "[==================================================] 100.0% 376.1/376.1MB downloaded\n"
          ]
        }
      ],
      "source": [
        "def load_embedding_model(embedding_dimension):\n",
        "    \"\"\"\n",
        "    Loads a pre-trained word embedding model via gensim library.\n",
        "\n",
        "    :param embedding_dimension: size of the embedding space to consider\n",
        "\n",
        "    :return\n",
        "        - pre-trained word embedding model\n",
        "    \"\"\"\n",
        "\n",
        "    download_path = \"glove-wiki-gigaword-{}\".format(embedding_dimension)\n",
        "    emb_model = gloader.load(download_path)\n",
        "\n",
        "    return emb_model\n",
        "\n",
        "EMBEDDING_DIMENSION = 300 # TODO: we can also try with 50, 100, 200, 300\n",
        "embedding_model = load_embedding_model(embedding_dimension = EMBEDDING_DIMENSION)"
      ]
    },
    {
      "cell_type": "markdown",
      "metadata": {
        "id": "go2sUw40VMm4"
      },
      "source": [
        "* **Embedding matrix** and OOV handling."
      ]
    },
    {
      "cell_type": "code",
      "execution_count": 15,
      "metadata": {
        "id": "g2E0w6NOVMm5"
      },
      "outputs": [],
      "source": [
        "def generate_random_static_embedding(embedding_dim):\n",
        "    '''\n",
        "    Generates a random static embedding for OOV tokens\n",
        "    '''\n",
        "    return np.random.uniform(-0.5, 0.5, size=embedding_dim)\n",
        "\n",
        "def build_embedding_matrix(embedding_model, embedding_dimension, word_to_idx, vocab_size):\n",
        "    \"\"\"\n",
        "    Builds the embedding matrix of a specific dataset given a pre-trained word embedding model\n",
        "\n",
        "    :param embedding_model: pre-trained word embedding model (gensim wrapper)\n",
        "    :param embedding_dimension: size of the embedding space to consider (int)\n",
        "    :param word_to_idx: vocabulary map (word -> index) (dict)\n",
        "    :param vocab_size: size of the vocabulary (int)\n",
        "\n",
        "    :return\n",
        "        - embedding matrix that assigns a high dimensional vector to each word in the dataset specific vocabulary (shape |V| x d)\n",
        "    \"\"\"\n",
        "    embedding_matrix = np.zeros((vocab_size, embedding_dimension), dtype=np.float32)\n",
        "\n",
        "    for word, idx in tqdm(word_to_idx.items()):\n",
        "        try:\n",
        "            embedding_vector = embedding_model[word]\n",
        "        except (KeyError, TypeError):\n",
        "            embedding_vector = generate_random_static_embedding(embedding_dimension)\n",
        "\n",
        "        embedding_matrix[idx] = embedding_vector\n",
        "\n",
        "    return embedding_matrix"
      ]
    },
    {
      "cell_type": "code",
      "execution_count": 16,
      "metadata": {
        "colab": {
          "base_uri": "https://localhost:8080/"
        },
        "id": "32fC2ek-VMm5",
        "outputId": "10fa30e3-7edb-4dac-8daf-a4c82416fe51"
      },
      "outputs": [
        {
          "output_type": "stream",
          "name": "stderr",
          "text": [
            "100%|██████████| 7406/7406 [00:00<00:00, 249988.05it/s]"
          ]
        },
        {
          "output_type": "stream",
          "name": "stdout",
          "text": [
            "\n",
            "Embedding matrix shape: (7406, 300)\n"
          ]
        },
        {
          "output_type": "stream",
          "name": "stderr",
          "text": [
            "\n"
          ]
        }
      ],
      "source": [
        "embedding_matrix = build_embedding_matrix(embedding_model, EMBEDDING_DIMENSION, word2idx, len(word_listing))\n",
        "print(f\"\\nEmbedding matrix shape: {embedding_matrix.shape}\")"
      ]
    },
    {
      "cell_type": "markdown",
      "metadata": {
        "id": "hOrL_0Mn5zOD"
      },
      "source": [
        "* **Tokenization**: padding and encoding."
      ]
    },
    {
      "cell_type": "code",
      "execution_count": 17,
      "metadata": {
        "id": "TLyshqLpVMm6"
      },
      "outputs": [],
      "source": [
        "# Encode sentences with their indexes\n",
        "def encode_sentences_and_tags(df, word_listing_train, tag_listing_train, word_to_idx, tag_to_idx):\n",
        "    \"\"\"\n",
        "        Encodes sentences and tags in the df with their indexes.\n",
        "    \"\"\"\n",
        "    sentences = df.words.values\n",
        "\n",
        "    encoded_sentences = []\n",
        "    for sentence in sentences:\n",
        "        encoded_sentence = []\n",
        "        for word in sentence:\n",
        "            word = str(word)\n",
        "            if (word not in word_listing_train):\n",
        "              word = '<unk>'\n",
        "            encoded_sentence.append(word_to_idx[word])\n",
        "        encoded_sentences.append(encoded_sentence)\n",
        "\n",
        "    tags = df.tags.values\n",
        "\n",
        "    encoded_tags = []\n",
        "    for tag in tags:\n",
        "        encoded_tag = []\n",
        "        for t in tag:\n",
        "            if (t not in tag_listing_train):\n",
        "                t = '<unk>'\n",
        "            encoded_tag.append(tag_to_idx[t])\n",
        "        encoded_tags.append(encoded_tag)\n",
        "\n",
        "    return encoded_sentences, encoded_tags\n",
        "\n",
        "encoded_sentences_train, encoded_tags_train = encode_sentences_and_tags(df[df['split'] == 'train'], word_listing, tag_listing, word2idx, tag2idx)\n",
        "encoded_sentences_val, encoded_tags_val = encode_sentences_and_tags(df[df['split'] == 'val'], word_listing, tag_listing, word2idx, tag2idx)\n",
        "encoded_sentences_test, encoded_tags_test = encode_sentences_and_tags(df[df['split'] == 'test'], word_listing, tag_listing, word2idx, tag2idx)\n"
      ]
    },
    {
      "cell_type": "markdown",
      "metadata": {
        "id": "swhGRQ2O5zOE"
      },
      "source": [
        "* Assessment of **padding dimension** involves an examination of sentence length distributions within the training dataset, with the goal of determining an optimal maximum sequence length for padding.\n",
        "This seeks to strike a balance between minimizing word truncation in long sentences and controlling the extent of required padding."
      ]
    },
    {
      "cell_type": "code",
      "execution_count": 18,
      "metadata": {
        "colab": {
          "base_uri": "https://localhost:8080/",
          "height": 523
        },
        "id": "qA4SmlR02xt1",
        "outputId": "7644f2db-8ead-4129-8dd3-e47a6f5fccb8"
      },
      "outputs": [
        {
          "output_type": "display_data",
          "data": {
            "text/plain": [
              "<Figure size 500x500 with 1 Axes>"
            ],
            "image/png": "[encoded data removed]"
          },
          "metadata": {}
        },
        {
          "output_type": "stream",
          "name": "stdout",
          "text": [
            "Maximum length of the sentences: 249\n",
            "Threshold for the maximum length of the sentences: 70\n",
            "Number of sentences with length greater than 70: 6\n"
          ]
        }
      ],
      "source": [
        "# Show the box plot of the lengths of the sentences in the training set\n",
        "plt.figure(figsize=(5, 5))\n",
        "lenghts = [len(s) for s in encoded_sentences_train]\n",
        "max_len = max(lenghts)\n",
        "plt.boxplot(lenghts)\n",
        "plt.title('Box plot of the lengths of the sentences in the training set')\n",
        "plt.show()\n",
        "\n",
        "# Choose a threshold for the maximum length of the sentences using the quantile\n",
        "length_thr = int(np.quantile(lenghts, 0.997))\n",
        "print(f\"Maximum length of the sentences: {max_len}\")\n",
        "print(f\"Threshold for the maximum length of the sentences: {length_thr}\")\n",
        "print(f'Number of sentences with length greater than {length_thr}: {np.sum([s > length_thr for s in lenghts])}')\n"
      ]
    },
    {
      "cell_type": "code",
      "execution_count": 19,
      "metadata": {
        "id": "T3dIgsy2VMm6"
      },
      "outputs": [],
      "source": [
        "def pad_encoded_sentences_and_tags(encoded_sentences, encoded_tags, max_len):\n",
        "    \"\"\"\n",
        "        Pads the encoded sentences and tags.\n",
        "\n",
        "        :param encoded_sentences: list of encoded sentences (list)\n",
        "        :param encoded_tags: list of encoded tags (list)\n",
        "        :param max_len: padding dimension (int)\n",
        "\n",
        "        :return:\n",
        "            - padded encoded sentences (numpy.ndarray)\n",
        "            - padded encoded tags (numpy.ndarray)\n",
        "    \"\"\"\n",
        "    padded_encoded_sentences = pad_sequences(encoded_sentences, padding='post', maxlen=max_len)\n",
        "    padded_encoded_tags = pad_sequences(encoded_tags, padding='post', maxlen=max_len)\n",
        "    return padded_encoded_sentences, padded_encoded_tags\n",
        "\n",
        "MAX_SEQ_LENGTH = length_thr\n",
        "padded_encoded_sentences_train, padded_encoded_tags_train = pad_encoded_sentences_and_tags(encoded_sentences_train, encoded_tags_train, MAX_SEQ_LENGTH)\n",
        "padded_encoded_sentences_val, padded_encoded_tags_val = pad_encoded_sentences_and_tags(encoded_sentences_val, encoded_tags_val, MAX_SEQ_LENGTH)\n",
        "padded_encoded_sentences_test, padded_encoded_tags_test = pad_encoded_sentences_and_tags(encoded_sentences_test, encoded_tags_test, MAX_SEQ_LENGTH)\n"
      ]
    },
    {
      "cell_type": "markdown",
      "metadata": {
        "id": "MSTVl9oI5zOE"
      },
      "source": [
        "## 3. Model definition"
      ]
    },
    {
      "cell_type": "code",
      "execution_count": 20,
      "metadata": {
        "id": "d89vM6ycVMm_"
      },
      "outputs": [],
      "source": [
        "num_classes = len(tag_listing)\n",
        "\n",
        "INPUT_SIZE = len(word_listing)\n",
        "HIDDEN_SIZE = 128 #TODO: si puo provare a cambiare\n",
        "OUTPUT_SIZE = num_classes\n",
        "\n",
        "BATCH_SIZE = 16"
      ]
    },
    {
      "cell_type": "code",
      "execution_count": 21,
      "metadata": {
        "colab": {
          "base_uri": "https://localhost:8080/"
        },
        "id": "gmx3uFcf5zOF",
        "outputId": "7505685e-00bf-40d8-91cf-bb9686c17347"
      },
      "outputs": [
        {
          "output_type": "stream",
          "name": "stdout",
          "text": [
            "Device cuda\n"
          ]
        }
      ],
      "source": [
        "device = torch.device(\"cuda\") if torch.cuda.is_available() else torch.device(\"cpu\")\n",
        "print(\"Device\", device)"
      ]
    },
    {
      "cell_type": "code",
      "execution_count": 22,
      "metadata": {
        "id": "nPjOFYu25zOF"
      },
      "outputs": [],
      "source": [
        "class DataframeDataset(Dataset):\n",
        "    def __init__(self, dataframe):\n",
        "        self.data = dataframe\n",
        "\n",
        "    def __len__(self):\n",
        "        return len(self.data)\n",
        "\n",
        "    def __getitem__(self, idx):\n",
        "        sample = self.data.iloc[idx]\n",
        "        return torch.tensor(sample['words']), torch.tensor(sample['tags'])\n",
        "\n",
        "train_df = pd.DataFrame([{'words': word, 'tags': tag} for word, tag in zip(padded_encoded_sentences_train, padded_encoded_tags_train)])\n",
        "val_df = pd.DataFrame([{'words': word, 'tags': tag} for word, tag in zip(padded_encoded_sentences_val, padded_encoded_tags_val)])\n",
        "test_df = pd.DataFrame([{'words': word, 'tags': tag} for word, tag in zip(padded_encoded_sentences_test, padded_encoded_tags_test)])\n",
        "\n",
        "train_ds = DataframeDataset(train_df)\n",
        "val_ds = DataframeDataset(val_df)\n",
        "test_ds = DataframeDataset(test_df)\n",
        "\n",
        "train_dl = DataLoader(train_ds, batch_size = BATCH_SIZE)\n",
        "val_dl = DataLoader(val_ds, batch_size = BATCH_SIZE)\n",
        "test_dl = DataLoader(test_ds, batch_size = BATCH_SIZE)"
      ]
    },
    {
      "cell_type": "code",
      "execution_count": 23,
      "metadata": {
        "id": "9lUM40Li5zOF"
      },
      "outputs": [],
      "source": [
        "class Custom(nn.Module):\n",
        "    def __init__(self, input_size, embedding_matrix, hidden_size, output_size, model_type):  #0:base 1:model1 #2:model2\n",
        "        super(Custom, self).__init__()\n",
        "        self.input_size = input_size\n",
        "        self.embedding_matrix = torch.Tensor(embedding_matrix)\n",
        "        self.pad_idx = 0 #index of the padding token\n",
        "        self.hidden_size = hidden_size\n",
        "        self.output_size = output_size\n",
        "        self.model_type = model_type\n",
        "\n",
        "        self.embedding = nn.Embedding.from_pretrained(self.embedding_matrix, freeze=True, padding_idx = self.pad_idx)\n",
        "        embedding_dim = self.embedding_matrix.shape[-1]\n",
        "\n",
        "        self.lstm = torch.nn.LSTM(embedding_dim, hidden_size, batch_first=True, bidirectional=True)\n",
        "\n",
        "        # Check the model type\n",
        "        if self.model_type == 1: #model1 --> add a LSTM layer to the baseline model\n",
        "            self.lstm1 = torch.nn.LSTM(hidden_size*2, hidden_size, batch_first=True, bidirectional=True) #check size\n",
        "            self.output = torch.nn.Linear(hidden_size*2, output_size)\n",
        "\n",
        "        elif self.model_type == 2: #model2 --> add a dense layer to the baseline model\n",
        "            self.dense = nn.Linear(hidden_size*2, hidden_size)\n",
        "            self.output = nn.Linear(hidden_size, output_size)\n",
        "\n",
        "        else: #baseline model\n",
        "            self.output = torch.nn.Linear(hidden_size*2, output_size)\n",
        "\n",
        "    def forward(self, x):\n",
        "        x = self.embedding(x)\n",
        "        x, _ = self.lstm(x)\n",
        "\n",
        "        # Check the model type\n",
        "        if self.model_type == 1:\n",
        "            x, _ = self.lstm1(x)\n",
        "            out = self.output(x)\n",
        "        elif self.model_type == 2:\n",
        "            x = self.dense(x)\n",
        "            out = self.output(x)\n",
        "        else:\n",
        "            out = self.output(x)\n",
        "        # out = F.log_softmax(out, dim=1)\n",
        "        return out"
      ]
    },
    {
      "cell_type": "code",
      "source": [
        "def compile_models(embedding_matrix, input_size, hidden_size, output_size):\n",
        "  baseline_model = Custom(input_size, embedding_matrix, hidden_size, output_size, 0).to(device)\n",
        "  model1 = Custom(input_size, embedding_matrix, hidden_size, output_size, 1).to(device)\n",
        "  model2 = Custom(input_size, embedding_matrix, hidden_size, output_size, 2).to(device)\n",
        "  return baseline_model, model1, model2\n",
        "\n",
        "model_list = compile_models(embedding_matrix= embedding_matrix,\n",
        "                            input_size= INPUT_SIZE,\n",
        "                            hidden_size= HIDDEN_SIZE,\n",
        "                            output_size= OUTPUT_SIZE)"
      ],
      "metadata": {
        "id": "bySBZi91MqV9"
      },
      "execution_count": 24,
      "outputs": []
    },
    {
      "cell_type": "markdown",
      "metadata": {
        "id": "ur29fUm8VMnA"
      },
      "source": [
        "## 4. Metrics"
      ]
    },
    {
      "cell_type": "markdown",
      "metadata": {
        "id": "XBAfV27u5zOG"
      },
      "source": [
        "* In order to avoid considering punctuation and symbol classes, we firstly need to inspect which tags are associated to the punctuation and symbol characters.\n",
        "* Then, we manually select the tags that we want to esclude in the evaluation."
      ]
    },
    {
      "cell_type": "code",
      "source": [
        "def get_words_by_tag(df):\n",
        "  \"\"\"\n",
        "      Finds the dataframe containing all the words associated to each Part Of Speech\n",
        "      :param df: training dataframe consisting of the sentences\n",
        "  \"\"\"\n",
        "  tag2words = {}\n",
        "  for words, tags in zip(df_train[\"words\"], df_train[\"tags\"]):\n",
        "    for w, t in zip(words, tags):\n",
        "      if str(w) not in tag2words.get(str(t), []):\n",
        "        tag2words[str(t)] = tag2words.get(str(t), []) + [str(w)]\n",
        "\n",
        "  for k, v in tag2words.items():\n",
        "      tag2words[k] = \" / \".join(v)\n",
        "  return pd.DataFrame(tag2words.values(), index= pd.Index(tag2words.keys()), columns= [\"WORDS\"])\n",
        "\n",
        "tag2words = get_words_by_tag(df_train)\n",
        "print(tag2words)"
      ],
      "metadata": {
        "colab": {
          "base_uri": "https://localhost:8080/"
        },
        "id": "0ujHMear5jY-",
        "outputId": "fda70efb-0935-4753-f963-0360e3289eec"
      },
      "execution_count": 26,
      "outputs": [
        {
          "output_type": "stream",
          "name": "stdout",
          "text": [
            "                                                   WORDS\n",
            "NNP    pierre / vinken / nov. / mr. / elsevier / n.v....\n",
            ",                                                 , / wa\n",
            "CD     61 / 29 / 55 / 30 / 1956 / 1950s / 1953 / 1955...\n",
            "NNS    years / filters / deaths / workers / researche...\n",
            "JJ     old / nonexecutive / former / british / indust...\n",
            "MD     will / should / can / may / could / would / mi...\n",
            "VB     join / make / bring / be / support / regulate ...\n",
            "DT     the / a / this / an / any / no / neither / tho...\n",
            "NN     board / director / chairman / group / conglome...\n",
            "IN     as / of / among / than / ago / once / with / i...\n",
            ".                                              . / ? / !\n",
            "VBZ    is / has / enters / makes / appears / does / '...\n",
            "VBG    publishing / causing / using / talking / havin...\n",
            "CC        and / nor / & / but / or / plus / yet / either\n",
            "VBD    was / reported / said / stopped / were / heard...\n",
            "VBN    named / used / caused / exposed / reported / r...\n",
            "RB     once / unusually / even / now / very / closely...\n",
            "TO                                                    to\n",
            "PRP    it / we / us / he / you / they / them / him / ...\n",
            "RBR    more / less / better / earlier / later / drear...\n",
            "WDT                                         that / which\n",
            "VBP    show / appear / 're / have / are / study / arg...\n",
            "RP     up / in / down / off / out / together / about ...\n",
            "PRP$           its / our / their / his / her / your / my\n",
            "JJS    latest / highest / most / longest / earliest /...\n",
            "POS                                               's / '\n",
            "``                                                `` / `\n",
            "EX                                                 there\n",
            "''                                                '' / '\n",
            "WP                                     who / what / whom\n",
            ":                                   -- / ; / : / ... / -\n",
            "JJR    higher / longer / shorter / stronger / earlier...\n",
            "WRB                   where / when / why / how / whereby\n",
            "$                                           $ / us$ / c$\n",
            "NNPS   toys / dealers / instruments / securities / ma...\n",
            "WP$                                                whose\n",
            "-LRB-                                      -lcb- / -lrb-\n",
            "-RRB-                                      -rcb- / -rrb-\n",
            "PDT                                    half / all / such\n",
            "RBS                                                 most\n",
            "FW                                         besuboru / de\n",
            "UH                                                    ok\n",
            "SYM                                                    &\n",
            "LS                             a / b / 1 / 2 / 3 / 4 / 5\n",
            "#                                                      #\n"
          ]
        }
      ]
    },
    {
      "cell_type": "code",
      "execution_count": 63,
      "metadata": {
        "id": "wRB-lRys2xuC",
        "outputId": "0d9d2d9c-aa1e-42ad-e270-585472cbca4b",
        "colab": {
          "base_uri": "https://localhost:8080/"
        }
      },
      "outputs": [
        {
          "output_type": "stream",
          "name": "stdout",
          "text": [
            "[0, 3, 12, 28, 30, 32, 35, 38, 39, 44, 46]\n"
          ]
        }
      ],
      "source": [
        "PUNCTUATION_PAD = [\"<pad>\", \",\", \".\", \"``\",\"''\", ':', '$', '-LRB-', \"-RRB-\", 'SYM', '#']\n",
        "PUNCTUATION_PAD_id = [tag2idx[x] for x in PUNCTUATION_PAD]\n",
        "print(PUNCTUATION_PAD_id)"
      ]
    },
    {
      "cell_type": "markdown",
      "metadata": {
        "id": "D6zaxsKH5zOK"
      },
      "source": [
        "* Evaluate your models using macro F1-score, compute over **all** tokens.\n",
        "* **Concatenate** all tokens in a data split to compute the F1-score. (**Hint**: accumulate FP, TP, FN, TN iteratively)"
      ]
    },
    {
      "cell_type": "code",
      "execution_count": 61,
      "metadata": {
        "id": "Ca_2g2IimH36"
      },
      "outputs": [],
      "source": [
        "def evaluate_model(y_true: torch.Tensor, y_pred: torch.Tensor, pad_punctuation_idx: list) -> float:\n",
        "  \"\"\"\n",
        "      Calculates the model's f1 score\n",
        "      :param y_true: ground truth tensor of padded sentences\n",
        "      :param y_pred: tensor of predicted padded sentences\n",
        "      :param idx2tag: dictionary: keys = indeces, values = tags\n",
        "      :param punctuation: list of tags associated to punctuation and symbols\n",
        "\n",
        "      :return: f1-score\n",
        "  \"\"\"\n",
        "  # remove padding and punctuation and flatten\n",
        "  # LA MAPPA VA CALCOLATA SUL GROUND TRUTH O SU QUELLO PREDETTO?\n",
        "  map = ~torch.isin(y_pred, torch.Tensor(pad_punctuation_idx).to(device))\n",
        "  y_true = y_true[map].cpu()\n",
        "  y_pred = y_pred[map].cpu()\n",
        "\n",
        "  return f1_score(y_true, y_pred, average= \"macro\")"
      ]
    },
    {
      "cell_type": "markdown",
      "metadata": {
        "id": "u5qask_kELMa"
      },
      "source": [
        "## 5. Training and Evaluation"
      ]
    },
    {
      "cell_type": "markdown",
      "source": [
        "Our approach follows this pipeline:\n",
        "1. We define the functions needed to train and evaluate data\n",
        "2. We undertake hyperparameter tuning\n",
        "3. With fine-tuned hyparameters, we repeat the training with different seeds for robust estimation\n",
        "4. We select the best model\n",
        "\n",
        "In the notebook it is showed explicitly just one training for each of the models\n",
        "\n",
        "#### 5.1 Function definitions"
      ],
      "metadata": {
        "id": "oaz5zPyRONG5"
      }
    },
    {
      "cell_type": "code",
      "execution_count": 74,
      "metadata": {
        "id": "2f0bJJIjEKwI"
      },
      "outputs": [],
      "source": [
        "def train_loop(model: nn.Module,\n",
        "               train_dl: DataLoader,\n",
        "               val_dl: DataLoader,\n",
        "               epochs: int,\n",
        "               opt: torch.optim,\n",
        "               loss_fn: Callable,\n",
        "               verbose: bool=False) -> None:\n",
        "  \"\"\"\n",
        "    Function for the training loop with validation data\n",
        "  \"\"\"\n",
        "  for e in tqdm(range(epochs)):\n",
        "    model.train()\n",
        "    train_loss = 0.0\n",
        "\n",
        "    for train_sentence, train_tags in train_dl:\n",
        "      input = train_sentence.to(device)\n",
        "      labels = train_tags.to(device).long()  # to Long type for the cross entropy\n",
        "\n",
        "      model.zero_grad()\n",
        "      opt.zero_grad()\n",
        "\n",
        "      scores = model(input)  # (batch_size, sequence_length, num_tags)\n",
        "\n",
        "      # Flatten both the scores and labels to match the expected shape for CrossEntropyLoss\n",
        "      scores = scores.view(-1, scores.shape[-1])  # (batch_size * sequence_length, num_tags)\n",
        "      labels = labels.view(-1)  # (batch_size * sequence_length)\n",
        "      loss = loss_fn(scores, labels)\n",
        "      loss.backward()\n",
        "      opt.step()\n",
        "\n",
        "      train_loss += loss.item()\n",
        "    train_loss /= len(train_dl)\n",
        "\n",
        "    model.eval()\n",
        "    val_loss = 0.0\n",
        "\n",
        "    with torch.no_grad():\n",
        "      for val_sentence, val_tags in val_dl:\n",
        "        val_input = val_sentence.to(device)\n",
        "        val_labels = val_tags.to(device).long()\n",
        "\n",
        "        val_scores = model(val_input)\n",
        "        val_scores = val_scores.view(-1, val_scores.shape[-1])\n",
        "        val_labels = val_labels.view(-1)\n",
        "        val_loss += loss_fn(val_scores, val_labels).item()\n",
        "\n",
        "    val_loss /= len(val_dl)\n",
        "\n",
        "    if verbose and e+1 % 5 == 0:\n",
        "      print(f\"Epoch {e+1}: Train Loss {train_loss:.3f}, Validation Loss {val_loss:.3f}\")\n",
        "\n",
        "\n",
        "def predict_sentence(model: nn.Module, sentence: torch.Tensor) -> torch.Tensor:\n",
        "  \"\"\"\n",
        "    :param model: the model used to predict\n",
        "    :param sentence: the sentence to predict\n",
        "\n",
        "    :return: the 1Dtensor of predicted tags\n",
        "  \"\"\"\n",
        "  with torch.no_grad():\n",
        "    logits = model(sentence)\n",
        "    tags_pred = torch.argmax(logits, axis=-1)\n",
        "  return tags_pred\n",
        "\n",
        "def predict(model: nn.Module, test_ds: Dataset) -> Tuple[torch.Tensor, torch.Tensor]:\n",
        "  \"\"\"\n",
        "    :param model: the model used to predict\n",
        "    :param test_ds: the dataSET with sentences and ground truth\n",
        "\n",
        "    :return: 2D tensors with decoded padded sentences, and padded ground truth\n",
        "  \"\"\"\n",
        "  with torch.no_grad():\n",
        "    tags_pred_tot = torch.zeros(0, length_thr).to(device)\n",
        "    tags_true_tot = torch.zeros(0, length_thr).to(device)\n",
        "    for sentence, tags_true in test_ds:\n",
        "      sentence = sentence.to(device)\n",
        "      tags_true = tags_true.view(1, length_thr).to(device)\n",
        "\n",
        "      tags_pred = predict_sentence(model, sentence).view(1, length_thr)\n",
        "      tags_pred_tot = torch.cat((tags_pred_tot, tags_pred), dim= 0)\n",
        "      tags_true_tot = torch.cat((tags_true_tot, tags_true), dim= 0)\n",
        "\n",
        "  return tags_true_tot, tags_pred_tot"
      ]
    },
    {
      "cell_type": "markdown",
      "source": [
        "#### 5.2 Hyperparameter Tuning\n",
        "\n",
        "In the next cell we expose all the parameters that we tried out. In the following we select only the winning ones."
      ],
      "metadata": {
        "id": "Me2yF5QHcRYk"
      }
    },
    {
      "cell_type": "code",
      "execution_count": 37,
      "metadata": {
        "id": "DTfOq1HLSRta"
      },
      "outputs": [],
      "source": [
        "from torch.optim.lr_scheduler import ReduceLROnPlateau"
      ]
    },
    {
      "cell_type": "code",
      "source": [
        "# criterions\n",
        "criterions = [nn.CrossEntropyLoss()]\n",
        "loss_fn = criterions[0]\n",
        "\n",
        "# learning rates\n",
        "lr = np.random.uniform(high= 1e-3, low= 1e-4, size= 3)\n",
        "print(lr)\n",
        "# optimizers\n",
        "optimizers = [torch.optim.RMSprop, torch.optim.Adam, torch.optim.AdamW]\n",
        "\n",
        "# hidden sizes\n",
        "sizes = [128, 64, 32]"
      ],
      "metadata": {
        "id": "0vTPFNYvcXEc",
        "outputId": "0e3da190-7275-468b-ee5a-2069e2b62d87",
        "colab": {
          "base_uri": "https://localhost:8080/"
        }
      },
      "execution_count": 103,
      "outputs": [
        {
          "output_type": "stream",
          "name": "stdout",
          "text": [
            "[0.00048781 0.00097002 0.00078411]\n"
          ]
        }
      ]
    },
    {
      "cell_type": "code",
      "source": [],
      "metadata": {
        "id": "JQWRHbQumRDX"
      },
      "execution_count": null,
      "outputs": []
    },
    {
      "cell_type": "code",
      "execution_count": 75,
      "metadata": {
        "colab": {
          "base_uri": "https://localhost:8080/",
          "height": 255
        },
        "id": "V0cEWba3eIRH",
        "outputId": "e6f9856e-0e56-4dd3-a18f-5def790d1870"
      },
      "outputs": [
        {
          "output_type": "stream",
          "name": "stdout",
          "text": [
            "tensor([ 9.,  2., 10., 16.,  6.,  5., 11.,  9., 10., 11., 33., 11., 35.,  4.,\n",
            "         4., 11.,  6., 10., 11.,  2., 22., 13., 18., 11., 35.,  4.,  4., 11.,\n",
            "        10., 15., 10.,  5., 11.,  6.,  4., 11.,  5., 11., 14.,  6., 10., 15.,\n",
            "        10., 12.,  0.,  0.,  0.,  0.,  0.,  0.,  0.,  0.,  0.,  0.,  0.,  0.,\n",
            "         0.,  0.,  0.,  0.,  0.,  0.,  0.,  0.,  0.,  0.,  0.,  0.,  0.,  0.],\n",
            "       device='cuda:0')\n",
            "tensor([ 9.,  6., 10., 16.,  6.,  5., 11.,  9., 10., 11., 33., 11., 35.,  4.,\n",
            "         4., 11.,  6., 10., 11.,  2., 22.,  2., 18., 11., 35.,  4.,  4., 11.,\n",
            "        10., 15., 10.,  5., 11., 10.,  4., 11.,  2., 11.,  2.,  6., 10., 15.,\n",
            "        10., 12.,  0.,  0.,  0.,  0.,  0.,  0.,  0.,  0.,  0.,  0.,  0.,  0.,\n",
            "         0.,  0.,  0.,  0.,  0.,  0.,  0.,  0.,  0.,  0.,  0.,  0.,  0.,  0.],\n",
            "       device='cuda:0')\n"
          ]
        },
        {
          "output_type": "execute_result",
          "data": {
            "text/plain": [
              "'CC'"
            ],
            "application/vnd.google.colaboratory.intrinsic+json": {
              "type": "string"
            }
          },
          "metadata": {},
          "execution_count": 75
        }
      ],
      "source": [
        "y_true, y_pred = predict(model_list[0], val_ds)\n",
        "print(y_true[0])\n",
        "print(y_pred[0])\n",
        "idx2tag[15]"
      ]
    },
    {
      "cell_type": "markdown",
      "source": [
        "#### 5.3 Robust evaluation\n",
        "\n",
        "Firstly we define functions to evaluate all models at once, then we apply them and we find the best model"
      ],
      "metadata": {
        "id": "atPdh4bLmSa6"
      }
    },
    {
      "cell_type": "code",
      "execution_count": 104,
      "metadata": {
        "id": "VNJEloOL12cK"
      },
      "outputs": [],
      "source": [
        "# rendere questa funzione modulare mettendo optimizer e scheduler? con la classe\n",
        "def train_all_models(model_list, lr_list = [.001,.001,.001], epochs_list= [70]*3, verbose_list= [False]*3, loss_fn= nn.CrossEntropyLoss(), train_dl= train_dl):\n",
        "\n",
        "  for model, lr, epochs, verb in zip(model_list, lr_list, epochs_list, verbose_list):\n",
        "    optimizer = torch.optim.RMSprop(model.parameters(), lr=lr)\n",
        "    scheduler = ReduceLROnPlateau(optimizer, mode='min',  patience=4, factor=0.1, verbose=False)\n",
        "\n",
        "    train_loop(model, train_dl, val_dl, epochs, optimizer, loss_fn, scheduler = scheduler, verbose= verb)\n",
        "\n",
        "def evaluate_all_models(ds, model_list, punctuation_pad_idx= PUNCTUATION_PAD_id):\n",
        "\n",
        "  results = []\n",
        "  y_pred_list = []\n",
        "\n",
        "  for model in model_list:\n",
        "      y_true, y_pred = predict(model, ds)\n",
        "      f1 = evaluate_model(y_true, y_pred, punctuation_pad_idx)\n",
        "      results.append(f1)\n",
        "      y_pred_list.append(y_pred)\n",
        "\n",
        "  return results, y_pred_list"
      ]
    },
    {
      "cell_type": "code",
      "source": [
        "def robust_test(seeds):\n",
        "  seeds_results_val = {}\n",
        "  pred_results_val = {}\n",
        "\n",
        "  for seed in tqdm(seeds):\n",
        "    fix_random(seed)\n",
        "    model_list = compile_models(embedding_matrix= embedding_matrix,\n",
        "                              input_size= INPUT_SIZE,\n",
        "                              hidden_size= HIDDEN_SIZE,\n",
        "                              output_size= OUTPUT_SIZE)\n",
        "\n",
        "    train_all_models(model_list, epochs_list=[25, 25, 25], verbose_list= [False]*3)\n",
        "\n",
        "    seeds_results_val[seed], pred_results_val[seed]= evaluate_all_models(val_ds, model_list)\n",
        "\n",
        "  return seeds_results_val, pred_results_val"
      ],
      "metadata": {
        "id": "JfJNjPVxPIB1"
      },
      "execution_count": null,
      "outputs": []
    },
    {
      "cell_type": "markdown",
      "source": [
        "Now we can run the test with different seeds. It will take a while because of repeated training.\n",
        "\n",
        "The best model is the one that on average yields the best f1-score"
      ],
      "metadata": {
        "id": "W0Sty77Koia1"
      }
    },
    {
      "cell_type": "code",
      "source": [
        "seeds = (1, 2)\n",
        "seeds_results_val, pred_results_val = robust_test(seeds)"
      ],
      "metadata": {
        "id": "7RYSLWewJHJU",
        "outputId": "983cc4e5-c18d-4a37-8b80-8d05993b146a",
        "colab": {
          "base_uri": "https://localhost:8080/"
        }
      },
      "execution_count": null,
      "outputs": [
        {
          "output_type": "stream",
          "name": "stderr",
          "text": [
            "\r  0%|          | 0/3 [00:00<?, ?it/s]"
          ]
        },
        {
          "output_type": "stream",
          "name": "stdout",
          "text": [
            "\n"
          ]
        },
        {
          "output_type": "stream",
          "name": "stderr",
          "text": [
            "\r 33%|███▎      | 1/3 [01:17<02:35, 77.63s/it]"
          ]
        },
        {
          "output_type": "stream",
          "name": "stdout",
          "text": [
            "\n"
          ]
        },
        {
          "output_type": "stream",
          "name": "stderr",
          "text": [
            "\r 67%|██████▋   | 2/3 [02:38<01:19, 79.34s/it]"
          ]
        },
        {
          "output_type": "stream",
          "name": "stdout",
          "text": [
            "\n"
          ]
        },
        {
          "output_type": "stream",
          "name": "stderr",
          "text": [
            "100%|██████████| 3/3 [04:01<00:00, 80.60s/it]\n"
          ]
        }
      ]
    },
    {
      "cell_type": "code",
      "source": [
        "seeds_results_val"
      ],
      "metadata": {
        "id": "rMnzIlccVaPS",
        "outputId": "637d61bf-65e1-4068-88fa-d3441c98fdf4",
        "colab": {
          "base_uri": "https://localhost:8080/"
        }
      },
      "execution_count": null,
      "outputs": [
        {
          "output_type": "execute_result",
          "data": {
            "text/plain": [
              "{1: [0.7023227946920596, 0.6743418471624979, 0.7015072900954906],\n",
              " 2: [0.6909304582587751, 0.7128807336094656, 0.6891056083752031],\n",
              " 3: [0.708532474800639, 0.6863351472876053, 0.6556964088065198]}"
            ]
          },
          "metadata": {},
          "execution_count": 36
        }
      ]
    },
    {
      "cell_type": "code",
      "execution_count": null,
      "metadata": {
        "colab": {
          "base_uri": "https://localhost:8080/",
          "height": 81
        },
        "id": "QkVO1svlus5p",
        "outputId": "1d943cbd-b368-473a-b141-ce192cfc1f09"
      },
      "outputs": [
        {
          "output_type": "execute_result",
          "data": {
            "text/plain": [
              "               baseline model   model 1   model 2\n",
              "mean f1-score        0.700595  0.691186  0.682103"
            ],
            "text/html": [
              "\n",
              "  <div id=\"df-4816ebe8-99c1-439c-b04c-fae3262f82b4\" class=\"colab-df-container\">\n",
              "    <div>\n",
              "<style scoped>\n",
              "    .dataframe tbody tr th:only-of-type {\n",
              "        vertical-align: middle;\n",
              "    }\n",
              "\n",
              "    .dataframe tbody tr th {\n",
              "        vertical-align: top;\n",
              "    }\n",
              "\n",
              "    .dataframe thead th {\n",
              "        text-align: right;\n",
              "    }\n",
              "</style>\n",
              "<table border=\"1\" class=\"dataframe\">\n",
              "  <thead>\n",
              "    <tr style=\"text-align: right;\">\n",
              "      <th></th>\n",
              "      <th>baseline model</th>\n",
              "      <th>model 1</th>\n",
              "      <th>model 2</th>\n",
              "    </tr>\n",
              "  </thead>\n",
              "  <tbody>\n",
              "    <tr>\n",
              "      <th>mean f1-score</th>\n",
              "      <td>0.700595</td>\n",
              "      <td>0.691186</td>\n",
              "      <td>0.682103</td>\n",
              "    </tr>\n",
              "  </tbody>\n",
              "</table>\n",
              "</div>\n",
              "    <div class=\"colab-df-buttons\">\n",
              "\n",
              "  <div class=\"colab-df-container\">\n",
              "    <button class=\"colab-df-convert\" onclick=\"convertToInteractive('df-4816ebe8-99c1-439c-b04c-fae3262f82b4')\"\n",
              "            title=\"Convert this dataframe to an interactive table.\"\n",
              "            style=\"display:none;\">\n",
              "\n",
              "  <svg xmlns=\"http://www.w3.org/2000/svg\" height=\"24px\" viewBox=\"0 -960 960 960\">\n",
              "    <path d=\"M120-120v-720h720v720H120Zm60-500h600v-160H180v160Zm220 220h160v-160H400v160Zm0 220h160v-160H400v160ZM180-400h160v-160H180v160Zm440 0h160v-160H620v160ZM180-180h160v-160H180v160Zm440 0h160v-160H620v160Z\"/>\n",
              "  </svg>\n",
              "    </button>\n",
              "\n",
              "  <style>\n",
              "    .colab-df-container {\n",
              "      display:flex;\n",
              "      gap: 12px;\n",
              "    }\n",
              "\n",
              "    .colab-df-convert {\n",
              "      background-color: #E8F0FE;\n",
              "      border: none;\n",
              "      border-radius: 50%;\n",
              "      cursor: pointer;\n",
              "      display: none;\n",
              "      fill: #1967D2;\n",
              "      height: 32px;\n",
              "      padding: 0 0 0 0;\n",
              "      width: 32px;\n",
              "    }\n",
              "\n",
              "    .colab-df-convert:hover {\n",
              "      background-color: #E2EBFA;\n",
              "      box-shadow: 0px 1px 2px rgba(60, 64, 67, 0.3), 0px 1px 3px 1px rgba(60, 64, 67, 0.15);\n",
              "      fill: #174EA6;\n",
              "    }\n",
              "\n",
              "    .colab-df-buttons div {\n",
              "      margin-bottom: 4px;\n",
              "    }\n",
              "\n",
              "    [theme=dark] .colab-df-convert {\n",
              "      background-color: #3B4455;\n",
              "      fill: #D2E3FC;\n",
              "    }\n",
              "\n",
              "    [theme=dark] .colab-df-convert:hover {\n",
              "      background-color: #434B5C;\n",
              "      box-shadow: 0px 1px 3px 1px rgba(0, 0, 0, 0.15);\n",
              "      filter: drop-shadow(0px 1px 2px rgba(0, 0, 0, 0.3));\n",
              "      fill: #FFFFFF;\n",
              "    }\n",
              "  </style>\n",
              "\n",
              "    <script>\n",
              "      const buttonEl =\n",
              "        document.querySelector('#df-4816ebe8-99c1-439c-b04c-fae3262f82b4 button.colab-df-convert');\n",
              "      buttonEl.style.display =\n",
              "        google.colab.kernel.accessAllowed ? 'block' : 'none';\n",
              "\n",
              "      async function convertToInteractive(key) {\n",
              "        const element = document.querySelector('#df-4816ebe8-99c1-439c-b04c-fae3262f82b4');\n",
              "        const dataTable =\n",
              "          await google.colab.kernel.invokeFunction('convertToInteractive',\n",
              "                                                    [key], {});\n",
              "        if (!dataTable) return;\n",
              "\n",
              "        const docLinkHtml = 'Like what you see? Visit the ' +\n",
              "          '<a target=\"_blank\" href=https://colab.research.google.com/notebooks/data_table.ipynb>data table notebook</a>'\n",
              "          + ' to learn more about interactive tables.';\n",
              "        element.innerHTML = '';\n",
              "        dataTable['output_type'] = 'display_data';\n",
              "        await google.colab.output.renderOutput(dataTable, element);\n",
              "        const docLink = document.createElement('div');\n",
              "        docLink.innerHTML = docLinkHtml;\n",
              "        element.appendChild(docLink);\n",
              "      }\n",
              "    </script>\n",
              "  </div>\n",
              "\n",
              "    </div>\n",
              "  </div>\n"
            ]
          },
          "metadata": {},
          "execution_count": 37
        }
      ],
      "source": [
        "mean_f1_scores = np.mean(np.array(list(seeds_results_val.values())), axis= 0)\n",
        "\n",
        "pd.DataFrame(mean_f1_scores.reshape((1,3)), index= [\"mean f1-score\"], columns= [\"baseline model\", \"model 1\", \"model 2\"])"
      ]
    },
    {
      "cell_type": "markdown",
      "metadata": {
        "id": "0bOA--GaySeA"
      },
      "source": [
        "#### 5.4 Best Performing Model\n",
        "\n",
        "According to the results that we have obtained, the best performing model is the **Baseline model**, with an f1-score of __  ."
      ]
    },
    {
      "cell_type": "code",
      "execution_count": 76,
      "metadata": {
        "id": "XRSLU6TjQ5B8",
        "colab": {
          "base_uri": "https://localhost:8080/"
        },
        "outputId": "92696e37-54c9-4bbd-9ea8-e9fed49d09f5"
      },
      "outputs": [
        {
          "output_type": "execute_result",
          "data": {
            "text/plain": [
              "(tensor([[ 2.,  2.,  2.,  ...,  0.,  0.,  0.],\n",
              "         [ 9., 10., 13.,  ...,  0.,  0.,  0.],\n",
              "         [ 2.,  2., 18.,  ...,  0.,  0.,  0.],\n",
              "         ...,\n",
              "         [ 2., 36.,  2.,  ...,  0.,  0.,  0.],\n",
              "         [ 5., 16., 18.,  ...,  0.,  0.,  0.],\n",
              "         [ 2., 16., 20.,  ...,  0.,  0.,  0.]], device='cuda:0'),\n",
              " tensor([[ 9.,  6., 10.,  ...,  0.,  0.,  0.],\n",
              "         [11.,  9., 10.,  ...,  0.,  0.,  0.],\n",
              "         [ 9., 10., 16.,  ...,  0.,  0.,  0.],\n",
              "         ...,\n",
              "         [25.,  5., 27.,  ...,  0.,  0.,  0.],\n",
              "         [ 5.,  3., 18.,  ...,  0.,  0.,  0.],\n",
              "         [ 5., 16., 18.,  ...,  0.,  0.,  0.]], device='cuda:0'),\n",
              " tensor([[ 2.,  2.,  2.,  ...,  0.,  0.,  0.],\n",
              "         [ 9., 10., 13.,  ...,  0.,  0.,  0.],\n",
              "         [ 2.,  2., 18.,  ...,  0.,  0.,  0.],\n",
              "         ...,\n",
              "         [ 2.,  2.,  2.,  ...,  0.,  0.,  0.],\n",
              "         [ 5., 16., 18.,  ...,  0.,  0.,  0.],\n",
              "         [ 2., 16., 20.,  ...,  0.,  0.,  0.]], device='cuda:0'))"
            ]
          },
          "metadata": {},
          "execution_count": 76
        }
      ],
      "source": [
        "model = model_list[0]\n",
        "\n",
        "# pred_results_val = pred_results_val[seeds[-1]]\n",
        "\n",
        "ground_truth_val, pred_results_val = predict(model, val_ds)\n",
        "ground_truth_test, pred_results_test = predict(model, test_ds)\n",
        "\n",
        "ground_truth_test, pred_results_val, pred_results_test"
      ]
    },
    {
      "cell_type": "markdown",
      "metadata": {
        "id": "Pk7OKY4Q0XGW"
      },
      "source": [
        "## 6. Error Analysis"
      ]
    },
    {
      "cell_type": "code",
      "source": [
        "pred_results_test[0]"
      ],
      "metadata": {
        "id": "6yoWH8tlakVr",
        "outputId": "9a1fa11c-3f54-44f7-ba4f-68afc8c9a79a",
        "colab": {
          "base_uri": "https://localhost:8080/"
        }
      },
      "execution_count": 77,
      "outputs": [
        {
          "output_type": "execute_result",
          "data": {
            "text/plain": [
              "tensor([ 2.,  2.,  2.,  3.,  2.,  2.,  3.,  2.,  3., 16., 20., 16., 16.,  4.,\n",
              "         5.,  3., 15., 18.,  4., 10.,  3., 11., 25.,  6., 10., 11.,  9.,  6.,\n",
              "        10., 11., 35.,  4.,  9., 10.,  3., 15., 35.,  4.,  4., 12.,  0.,  0.,\n",
              "         0.,  0.,  0.,  0.,  0.,  0.,  0.,  0.,  0.,  0.,  0.,  0.,  0.,  0.,\n",
              "         0.,  0.,  0.,  0.,  0.,  0.,  0.,  0.,  0.,  0.,  0.,  0.,  0.,  0.],\n",
              "       device='cuda:0')"
            ]
          },
          "metadata": {},
          "execution_count": 77
        }
      ]
    },
    {
      "cell_type": "markdown",
      "metadata": {
        "id": "Rac9mcrXU3Rl"
      },
      "source": [
        "**More frequent error tag**"
      ]
    },
    {
      "cell_type": "code",
      "execution_count": 78,
      "metadata": {
        "id": "7lLdzyHJSats"
      },
      "outputs": [],
      "source": [
        "unique_elements, counts = torch.unique(ground_truth_test[pred_results_test != ground_truth_test], return_counts=True)\n",
        "#TO DO remove punctuation and symbols classes positions\n",
        "unique_elements = unique_elements.tolist()\n",
        "tag_unique_elements = [idx2tag[index] for index in unique_elements]\n",
        "counts = counts.tolist()\n",
        "\n",
        "tags_errors_count = pd.DataFrame(data=counts, index=tag_unique_elements, columns= [\"TIMES A POS IS NOT RECOGNISED\"])\n",
        "\n",
        "tags_errors_count = tags_errors_count.sort_values(by= \"TIMES A POS IS NOT RECOGNISED\", ascending= False)"
      ]
    },
    {
      "cell_type": "code",
      "source": [
        "tags_errors_count"
      ],
      "metadata": {
        "id": "5gIxlgzGkPbx",
        "outputId": "e4fedbf8-365f-42e1-cad7-a858cd4b5639",
        "colab": {
          "base_uri": "https://localhost:8080/",
          "height": 833
        }
      },
      "execution_count": 79,
      "outputs": [
        {
          "output_type": "execute_result",
          "data": {
            "text/plain": [
              "      TIMES A POS IS NOT RECOGNISED\n",
              "NN                              610\n",
              "JJ                              292\n",
              "NNP                             289\n",
              "CD                               99\n",
              "VBG                              86\n",
              "NNS                              84\n",
              "VBN                              80\n",
              "VBD                              73\n",
              "RB                               70\n",
              "IN                               63\n",
              "NNPS                             41\n",
              "VB                               37\n",
              "VBZ                              34\n",
              "VBP                              21\n",
              "JJR                              17\n",
              "RP                               10\n",
              "DT                                8\n",
              "RBR                               7\n",
              "PDT                               4\n",
              "WRB                               3\n",
              "WDT                               3\n",
              "JJS                               2\n",
              "PRP                               2\n",
              "RBS                               2\n",
              "CC                                1"
            ],
            "text/html": [
              "\n",
              "  <div id=\"df-7f1ef11e-c4b7-4454-83e0-169a23417891\" class=\"colab-df-container\">\n",
              "    <div>\n",
              "<style scoped>\n",
              "    .dataframe tbody tr th:only-of-type {\n",
              "        vertical-align: middle;\n",
              "    }\n",
              "\n",
              "    .dataframe tbody tr th {\n",
              "        vertical-align: top;\n",
              "    }\n",
              "\n",
              "    .dataframe thead th {\n",
              "        text-align: right;\n",
              "    }\n",
              "</style>\n",
              "<table border=\"1\" class=\"dataframe\">\n",
              "  <thead>\n",
              "    <tr style=\"text-align: right;\">\n",
              "      <th></th>\n",
              "      <th>TIMES A POS IS NOT RECOGNISED</th>\n",
              "    </tr>\n",
              "  </thead>\n",
              "  <tbody>\n",
              "    <tr>\n",
              "      <th>NN</th>\n",
              "      <td>610</td>\n",
              "    </tr>\n",
              "    <tr>\n",
              "      <th>JJ</th>\n",
              "      <td>292</td>\n",
              "    </tr>\n",
              "    <tr>\n",
              "      <th>NNP</th>\n",
              "      <td>289</td>\n",
              "    </tr>\n",
              "    <tr>\n",
              "      <th>CD</th>\n",
              "      <td>99</td>\n",
              "    </tr>\n",
              "    <tr>\n",
              "      <th>VBG</th>\n",
              "      <td>86</td>\n",
              "    </tr>\n",
              "    <tr>\n",
              "      <th>NNS</th>\n",
              "      <td>84</td>\n",
              "    </tr>\n",
              "    <tr>\n",
              "      <th>VBN</th>\n",
              "      <td>80</td>\n",
              "    </tr>\n",
              "    <tr>\n",
              "      <th>VBD</th>\n",
              "      <td>73</td>\n",
              "    </tr>\n",
              "    <tr>\n",
              "      <th>RB</th>\n",
              "      <td>70</td>\n",
              "    </tr>\n",
              "    <tr>\n",
              "      <th>IN</th>\n",
              "      <td>63</td>\n",
              "    </tr>\n",
              "    <tr>\n",
              "      <th>NNPS</th>\n",
              "      <td>41</td>\n",
              "    </tr>\n",
              "    <tr>\n",
              "      <th>VB</th>\n",
              "      <td>37</td>\n",
              "    </tr>\n",
              "    <tr>\n",
              "      <th>VBZ</th>\n",
              "      <td>34</td>\n",
              "    </tr>\n",
              "    <tr>\n",
              "      <th>VBP</th>\n",
              "      <td>21</td>\n",
              "    </tr>\n",
              "    <tr>\n",
              "      <th>JJR</th>\n",
              "      <td>17</td>\n",
              "    </tr>\n",
              "    <tr>\n",
              "      <th>RP</th>\n",
              "      <td>10</td>\n",
              "    </tr>\n",
              "    <tr>\n",
              "      <th>DT</th>\n",
              "      <td>8</td>\n",
              "    </tr>\n",
              "    <tr>\n",
              "      <th>RBR</th>\n",
              "      <td>7</td>\n",
              "    </tr>\n",
              "    <tr>\n",
              "      <th>PDT</th>\n",
              "      <td>4</td>\n",
              "    </tr>\n",
              "    <tr>\n",
              "      <th>WRB</th>\n",
              "      <td>3</td>\n",
              "    </tr>\n",
              "    <tr>\n",
              "      <th>WDT</th>\n",
              "      <td>3</td>\n",
              "    </tr>\n",
              "    <tr>\n",
              "      <th>JJS</th>\n",
              "      <td>2</td>\n",
              "    </tr>\n",
              "    <tr>\n",
              "      <th>PRP</th>\n",
              "      <td>2</td>\n",
              "    </tr>\n",
              "    <tr>\n",
              "      <th>RBS</th>\n",
              "      <td>2</td>\n",
              "    </tr>\n",
              "    <tr>\n",
              "      <th>CC</th>\n",
              "      <td>1</td>\n",
              "    </tr>\n",
              "  </tbody>\n",
              "</table>\n",
              "</div>\n",
              "    <div class=\"colab-df-buttons\">\n",
              "\n",
              "  <div class=\"colab-df-container\">\n",
              "    <button class=\"colab-df-convert\" onclick=\"convertToInteractive('df-7f1ef11e-c4b7-4454-83e0-169a23417891')\"\n",
              "            title=\"Convert this dataframe to an interactive table.\"\n",
              "            style=\"display:none;\">\n",
              "\n",
              "  <svg xmlns=\"http://www.w3.org/2000/svg\" height=\"24px\" viewBox=\"0 -960 960 960\">\n",
              "    <path d=\"M120-120v-720h720v720H120Zm60-500h600v-160H180v160Zm220 220h160v-160H400v160Zm0 220h160v-160H400v160ZM180-400h160v-160H180v160Zm440 0h160v-160H620v160ZM180-180h160v-160H180v160Zm440 0h160v-160H620v160Z\"/>\n",
              "  </svg>\n",
              "    </button>\n",
              "\n",
              "  <style>\n",
              "    .colab-df-container {\n",
              "      display:flex;\n",
              "      gap: 12px;\n",
              "    }\n",
              "\n",
              "    .colab-df-convert {\n",
              "      background-color: #E8F0FE;\n",
              "      border: none;\n",
              "      border-radius: 50%;\n",
              "      cursor: pointer;\n",
              "      display: none;\n",
              "      fill: #1967D2;\n",
              "      height: 32px;\n",
              "      padding: 0 0 0 0;\n",
              "      width: 32px;\n",
              "    }\n",
              "\n",
              "    .colab-df-convert:hover {\n",
              "      background-color: #E2EBFA;\n",
              "      box-shadow: 0px 1px 2px rgba(60, 64, 67, 0.3), 0px 1px 3px 1px rgba(60, 64, 67, 0.15);\n",
              "      fill: #174EA6;\n",
              "    }\n",
              "\n",
              "    .colab-df-buttons div {\n",
              "      margin-bottom: 4px;\n",
              "    }\n",
              "\n",
              "    [theme=dark] .colab-df-convert {\n",
              "      background-color: #3B4455;\n",
              "      fill: #D2E3FC;\n",
              "    }\n",
              "\n",
              "    [theme=dark] .colab-df-convert:hover {\n",
              "      background-color: #434B5C;\n",
              "      box-shadow: 0px 1px 3px 1px rgba(0, 0, 0, 0.15);\n",
              "      filter: drop-shadow(0px 1px 2px rgba(0, 0, 0, 0.3));\n",
              "      fill: #FFFFFF;\n",
              "    }\n",
              "  </style>\n",
              "\n",
              "    <script>\n",
              "      const buttonEl =\n",
              "        document.querySelector('#df-7f1ef11e-c4b7-4454-83e0-169a23417891 button.colab-df-convert');\n",
              "      buttonEl.style.display =\n",
              "        google.colab.kernel.accessAllowed ? 'block' : 'none';\n",
              "\n",
              "      async function convertToInteractive(key) {\n",
              "        const element = document.querySelector('#df-7f1ef11e-c4b7-4454-83e0-169a23417891');\n",
              "        const dataTable =\n",
              "          await google.colab.kernel.invokeFunction('convertToInteractive',\n",
              "                                                    [key], {});\n",
              "        if (!dataTable) return;\n",
              "\n",
              "        const docLinkHtml = 'Like what you see? Visit the ' +\n",
              "          '<a target=\"_blank\" href=https://colab.research.google.com/notebooks/data_table.ipynb>data table notebook</a>'\n",
              "          + ' to learn more about interactive tables.';\n",
              "        element.innerHTML = '';\n",
              "        dataTable['output_type'] = 'display_data';\n",
              "        await google.colab.output.renderOutput(dataTable, element);\n",
              "        const docLink = document.createElement('div');\n",
              "        docLink.innerHTML = docLinkHtml;\n",
              "        element.appendChild(docLink);\n",
              "      }\n",
              "    </script>\n",
              "  </div>\n",
              "\n",
              "\n",
              "<div id=\"df-0126792c-4b24-46a3-b6e5-75508c24f4aa\">\n",
              "  <button class=\"colab-df-quickchart\" onclick=\"quickchart('df-0126792c-4b24-46a3-b6e5-75508c24f4aa')\"\n",
              "            title=\"Suggest charts\"\n",
              "            style=\"display:none;\">\n",
              "\n",
              "<svg xmlns=\"http://www.w3.org/2000/svg\" height=\"24px\"viewBox=\"0 0 24 24\"\n",
              "     width=\"24px\">\n",
              "    <g>\n",
              "        <path d=\"M19 3H5c-1.1 0-2 .9-2 2v14c0 1.1.9 2 2 2h14c1.1 0 2-.9 2-2V5c0-1.1-.9-2-2-2zM9 17H7v-7h2v7zm4 0h-2V7h2v10zm4 0h-2v-4h2v4z\"/>\n",
              "    </g>\n",
              "</svg>\n",
              "  </button>\n",
              "\n",
              "<style>\n",
              "  .colab-df-quickchart {\n",
              "      --bg-color: #E8F0FE;\n",
              "      --fill-color: #1967D2;\n",
              "      --hover-bg-color: #E2EBFA;\n",
              "      --hover-fill-color: #174EA6;\n",
              "      --disabled-fill-color: #AAA;\n",
              "      --disabled-bg-color: #DDD;\n",
              "  }\n",
              "\n",
              "  [theme=dark] .colab-df-quickchart {\n",
              "      --bg-color: #3B4455;\n",
              "      --fill-color: #D2E3FC;\n",
              "      --hover-bg-color: #434B5C;\n",
              "      --hover-fill-color: #FFFFFF;\n",
              "      --disabled-bg-color: #3B4455;\n",
              "      --disabled-fill-color: #666;\n",
              "  }\n",
              "\n",
              "  .colab-df-quickchart {\n",
              "    background-color: var(--bg-color);\n",
              "    border: none;\n",
              "    border-radius: 50%;\n",
              "    cursor: pointer;\n",
              "    display: none;\n",
              "    fill: var(--fill-color);\n",
              "    height: 32px;\n",
              "    padding: 0;\n",
              "    width: 32px;\n",
              "  }\n",
              "\n",
              "  .colab-df-quickchart:hover {\n",
              "    background-color: var(--hover-bg-color);\n",
              "    box-shadow: 0 1px 2px rgba(60, 64, 67, 0.3), 0 1px 3px 1px rgba(60, 64, 67, 0.15);\n",
              "    fill: var(--button-hover-fill-color);\n",
              "  }\n",
              "\n",
              "  .colab-df-quickchart-complete:disabled,\n",
              "  .colab-df-quickchart-complete:disabled:hover {\n",
              "    background-color: var(--disabled-bg-color);\n",
              "    fill: var(--disabled-fill-color);\n",
              "    box-shadow: none;\n",
              "  }\n",
              "\n",
              "  .colab-df-spinner {\n",
              "    border: 2px solid var(--fill-color);\n",
              "    border-color: transparent;\n",
              "    border-bottom-color: var(--fill-color);\n",
              "    animation:\n",
              "      spin 1s steps(1) infinite;\n",
              "  }\n",
              "\n",
              "  @keyframes spin {\n",
              "    0% {\n",
              "      border-color: transparent;\n",
              "      border-bottom-color: var(--fill-color);\n",
              "      border-left-color: var(--fill-color);\n",
              "    }\n",
              "    20% {\n",
              "      border-color: transparent;\n",
              "      border-left-color: var(--fill-color);\n",
              "      border-top-color: var(--fill-color);\n",
              "    }\n",
              "    30% {\n",
              "      border-color: transparent;\n",
              "      border-left-color: var(--fill-color);\n",
              "      border-top-color: var(--fill-color);\n",
              "      border-right-color: var(--fill-color);\n",
              "    }\n",
              "    40% {\n",
              "      border-color: transparent;\n",
              "      border-right-color: var(--fill-color);\n",
              "      border-top-color: var(--fill-color);\n",
              "    }\n",
              "    60% {\n",
              "      border-color: transparent;\n",
              "      border-right-color: var(--fill-color);\n",
              "    }\n",
              "    80% {\n",
              "      border-color: transparent;\n",
              "      border-right-color: var(--fill-color);\n",
              "      border-bottom-color: var(--fill-color);\n",
              "    }\n",
              "    90% {\n",
              "      border-color: transparent;\n",
              "      border-bottom-color: var(--fill-color);\n",
              "    }\n",
              "  }\n",
              "</style>\n",
              "\n",
              "  <script>\n",
              "    async function quickchart(key) {\n",
              "      const quickchartButtonEl =\n",
              "        document.querySelector('#' + key + ' button');\n",
              "      quickchartButtonEl.disabled = true;  // To prevent multiple clicks.\n",
              "      quickchartButtonEl.classList.add('colab-df-spinner');\n",
              "      try {\n",
              "        const charts = await google.colab.kernel.invokeFunction(\n",
              "            'suggestCharts', [key], {});\n",
              "      } catch (error) {\n",
              "        console.error('Error during call to suggestCharts:', error);\n",
              "      }\n",
              "      quickchartButtonEl.classList.remove('colab-df-spinner');\n",
              "      quickchartButtonEl.classList.add('colab-df-quickchart-complete');\n",
              "    }\n",
              "    (() => {\n",
              "      let quickchartButtonEl =\n",
              "        document.querySelector('#df-0126792c-4b24-46a3-b6e5-75508c24f4aa button');\n",
              "      quickchartButtonEl.style.display =\n",
              "        google.colab.kernel.accessAllowed ? 'block' : 'none';\n",
              "    })();\n",
              "  </script>\n",
              "</div>\n",
              "    </div>\n",
              "  </div>\n"
            ]
          },
          "metadata": {},
          "execution_count": 79
        }
      ]
    },
    {
      "cell_type": "code",
      "execution_count": 101,
      "metadata": {
        "id": "G6_RknfQTRJe",
        "outputId": "a8abd89b-3f23-4703-fd4a-2302ba296bdf",
        "colab": {
          "base_uri": "https://localhost:8080/",
          "height": 1000
        }
      },
      "outputs": [
        {
          "output_type": "display_data",
          "data": {
            "text/plain": [
              "<Figure size 2000x1600 with 2 Axes>"
            ],
            "image/png": "[encoded data removed]"
          },
          "metadata": {}
        }
      ],
      "source": [
        "# conf_mat = confusion_matrix(ground_truth_test[ground_truth_test!=0].tolist(), pred_results_test[pred_results_test!=0].tolist())\n",
        "fig, ax = plt.subplots(figsize=(20, 16))\n",
        "ConfusionMatrixDisplay.from_predictions(ground_truth_test[ground_truth_test!=0].cpu(),\n",
        "                                        pred_results_test[pred_results_test!=0].cpu(),\n",
        "                                        labels= range(len(tag_listing)-1),\n",
        "                                        display_labels= tag_listing[1:],\n",
        "                                        ax= ax)\n",
        "plt.show()\n",
        "# print(confusion_matrix(ground_truth_test[ground_truth_test!=0].cpu(),\n",
        "#                                         pred_results_test[pred_results_test!=0].cpu()))"
      ]
    },
    {
      "cell_type": "code",
      "execution_count": null,
      "metadata": {
        "colab": {
          "base_uri": "https://localhost:8080/",
          "height": 145
        },
        "id": "qeGl_bOsz0AC",
        "outputId": "aabdee00-aa0f-4c15-a09b-b2f54a25db3f"
      },
      "outputs": [
        {
          "output_type": "error",
          "ename": "SyntaxError",
          "evalue": "ignored",
          "traceback": [
            "\u001b[0;36m  File \u001b[0;32m\"<ipython-input-40-b53406acf1d1>\"\u001b[0;36m, line \u001b[0;32m1\u001b[0m\n\u001b[0;31m    def error_map():\u001b[0m\n\u001b[0m                    ^\u001b[0m\n\u001b[0;31mSyntaxError\u001b[0m\u001b[0;31m:\u001b[0m incomplete input\n"
          ]
        }
      ],
      "source": [
        "def error_map():\n"
      ]
    },
    {
      "cell_type": "code",
      "execution_count": null,
      "metadata": {
        "id": "oCwNf2f30gx-"
      },
      "outputs": [],
      "source": []
    }
  ],
  "metadata": {
    "accelerator": "GPU",
    "colab": {
      "collapsed_sections": [
        "kzGv5IidVMmy",
        "t8fN3JqpVMm1",
        "MSTVl9oI5zOE",
        "ur29fUm8VMnA"
      ],
      "gpuType": "T4",
      "provenance": [],
      "toc_visible": true,
      "include_colab_link": true
    },
    "kernelspec": {
      "display_name": "Python 3",
      "name": "python3"
    },
    "language_info": {
      "codemirror_mode": {
        "name": "ipython",
        "version": 3
      },
      "file_extension": ".py",
      "mimetype": "text/x-python",
      "name": "python",
      "nbconvert_exporter": "python",
      "pygments_lexer": "ipython3",
      "version": "3.9.6"
    }
  },
  "nbformat": 4,
  "nbformat_minor": 0
}